{
 "cells": [
  {
   "cell_type": "code",
   "execution_count": 1,
   "metadata": {},
   "outputs": [],
   "source": [
    "def _r31(self, bs):\n",
    "    \"\"\"Probability of unbinding if tightly bound\n",
    "\n",
    "    Takes:\n",
    "        bs: relative Crown to Actin distance (x,y)\n",
    "    Returns:\n",
    "        rate: probability of detaching from the binding site\n",
    "    \"\"\"\n",
    "    # # ## Get needed values\n",
    "    k_xb = self.g.constant(\"tight\")\n",
    "    M = 3600  # From Tanner, 2008 Pg 1209\n",
    "    N = 40\n",
    "    P = 20\n",
    "    # # ## Based on the energy in the tight state\n",
    "    rate = (sqrt(k_xb) * (sqrt(M * (bs - 4.76) ** 2) -\n",
    "                          N * (bs - 4.76)) + P) * self.timestep"
   ]
  },
  {
   "cell_type": "code",
   "execution_count": 2,
   "metadata": {},
   "outputs": [],
   "source": [
    "import matplotlib.pyplot as plt"
   ]
  },
  {
   "cell_type": "code",
   "execution_count": null,
   "metadata": {},
   "outputs": [],
   "source": [
    "rates = []\n",
    "for i in range(-5, 10):\n",
    "    rates.append(_r31(i))"
   ]
  }
 ],
 "metadata": {
  "kernelspec": {
   "display_name": "Python 3",
   "language": "python",
   "name": "python3"
  },
  "language_info": {
   "codemirror_mode": {
    "name": "ipython",
    "version": 3
   },
   "file_extension": ".py",
   "mimetype": "text/x-python",
   "name": "python",
   "nbconvert_exporter": "python",
   "pygments_lexer": "ipython3",
   "version": "3.7.3"
  }
 },
 "nbformat": 4,
 "nbformat_minor": 2
}
