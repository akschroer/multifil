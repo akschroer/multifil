{
 "cells": [
  {
   "cell_type": "code",
   "execution_count": 1,
   "metadata": {},
   "outputs": [
    {
     "name": "stdout",
     "output_type": "stream",
     "text": [
      "KEYS\n",
      "key\n",
      "new_key\n",
      "\n",
      "VALUES\n",
      "val\n",
      "14\n",
      "\n",
      "DICTIONARY\n",
      "key ==> val\n",
      "new_key ==> 14\n",
      "\n",
      "DICTIONARY\n",
      "key ==> 12\n",
      "new_key ==> 14\n",
      "\n"
     ]
    }
   ],
   "source": [
    "dictionary_example = {\"key\":'val'}\n",
    "dictionary_example['new_key'] = 14\n",
    "\n",
    "print(\"KEYS\")\n",
    "for key in dictionary_example.keys():\n",
    "    print(key)\n",
    "print()\n",
    "\n",
    "print(\"VALUES\")\n",
    "for values in dictionary_example.values():\n",
    "    print(values)\n",
    "print()\n",
    "\n",
    "print(\"DICTIONARY\")\n",
    "for key, value in dictionary_example.items():\n",
    "    print(key, \"==>\", value)\n",
    "print()\n",
    "\n",
    "# update\n",
    "dictionary_example[\"key\"] = 12\n",
    "\n",
    "print(\"DICTIONARY\")\n",
    "for key, value in dictionary_example.items():\n",
    "    print(key, \"==>\", value)\n",
    "print()"
   ]
  },
  {
   "cell_type": "code",
   "execution_count": 2,
   "metadata": {},
   "outputs": [
    {
     "name": "stdout",
     "output_type": "stream",
     "text": [
      "DICTIONARY\n",
      "14 ==> fourteen\n",
      "\n",
      "DICTIONARY\n",
      "14 ==> fourteen\n",
      "key ==> 12\n",
      "\n",
      "DICTIONARY\n",
      "14 ==> fourteen\n",
      "key ==> twelve\n",
      "fifteen ==> 15\n",
      "\n"
     ]
    }
   ],
   "source": [
    "dictionary_example = {}\n",
    "dictionary_example['14'] = \"fourteen\"\n",
    "\n",
    "print(\"DICTIONARY\")\n",
    "for key, value in dictionary_example.items():\n",
    "    print(key, \"==>\", value)\n",
    "print()\n",
    "\n",
    "# update\n",
    "dictionary_example[\"key\"] = 12\n",
    "\n",
    "print(\"DICTIONARY\")\n",
    "for key, value in dictionary_example.items():\n",
    "    print(key, \"==>\", value)\n",
    "print()\n",
    "\n",
    "# update several things at once - update a key that already exists, and add a new one\n",
    "dictionary_example.update({'key':'twelve', 'fifteen':15})\n",
    "\n",
    "print(\"DICTIONARY\")\n",
    "for key, value in dictionary_example.items():\n",
    "    print(key, \"==>\", value)\n",
    "print()\n",
    "\n"
   ]
  },
  {
   "cell_type": "code",
   "execution_count": 3,
   "metadata": {},
   "outputs": [],
   "source": [
    "class example:\n",
    "    def __init__(self, timestep):\n",
    "        self.timestep_len = timestep\n",
    "        \n",
    "    @property\n",
    "    def timestep(self):\n",
    "        return self.timestep_len\n",
    "    \n",
    "    def add(self, a=1, b=-1):\n",
    "        return a + b"
   ]
  },
  {
   "cell_type": "code",
   "execution_count": 4,
   "metadata": {},
   "outputs": [
    {
     "name": "stdout",
     "output_type": "stream",
     "text": [
      "timestep 5\n",
      "\n",
      "addition 0\n",
      "\n",
      "addition 5\n"
     ]
    }
   ],
   "source": [
    "thing = example(timestep=5)\n",
    "\n",
    "print(\"timestep\", thing.timestep)\n",
    "print()\n",
    "print(\"addition\", thing.add())\n",
    "print()\n",
    "print(\"addition\", thing.add(2,3))"
   ]
  },
  {
   "cell_type": "code",
   "execution_count": 5,
   "metadata": {},
   "outputs": [
    {
     "data": {
      "text/plain": [
       "5.333333333333333"
      ]
     },
     "execution_count": 5,
     "metadata": {},
     "output_type": "execute_result"
    }
   ],
   "source": [
    "16 / 3"
   ]
  },
  {
   "cell_type": "code",
   "execution_count": 6,
   "metadata": {},
   "outputs": [
    {
     "data": {
      "text/plain": [
       "5"
      ]
     },
     "execution_count": 6,
     "metadata": {},
     "output_type": "execute_result"
    }
   ],
   "source": [
    "int(16 / 3)"
   ]
  },
  {
   "cell_type": "code",
   "execution_count": 7,
   "metadata": {},
   "outputs": [
    {
     "data": {
      "text/plain": [
       "1"
      ]
     },
     "execution_count": 7,
     "metadata": {},
     "output_type": "execute_result"
    }
   ],
   "source": [
    "16 % 3"
   ]
  },
  {
   "cell_type": "code",
   "execution_count": 8,
   "metadata": {},
   "outputs": [
    {
     "name": "stdout",
     "output_type": "stream",
     "text": [
      "16\n"
     ]
    }
   ],
   "source": [
    "print(3 * int(16 / 3) + 16 % 3)"
   ]
  }
 ],
 "metadata": {
  "kernelspec": {
   "display_name": "Python 3",
   "language": "python",
   "name": "python3"
  },
  "language_info": {
   "codemirror_mode": {
    "name": "ipython",
    "version": 3
   },
   "file_extension": ".py",
   "mimetype": "text/x-python",
   "name": "python",
   "nbconvert_exporter": "python",
   "pygments_lexer": "ipython3",
   "version": "3.7.3"
  }
 },
 "nbformat": 4,
 "nbformat_minor": 2
}
