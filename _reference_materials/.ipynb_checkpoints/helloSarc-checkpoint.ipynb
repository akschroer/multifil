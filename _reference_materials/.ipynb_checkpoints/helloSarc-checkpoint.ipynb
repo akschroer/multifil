{
 "cells": [
  {
   "cell_type": "code",
   "execution_count": 5,
   "metadata": {},
   "outputs": [],
   "source": [
    "# This is an example of running the model through a twitch"
   ]
  },
  {
   "cell_type": "code",
   "execution_count": 1,
   "metadata": {},
   "outputs": [
    {
     "name": "stdout",
     "output_type": "stream",
     "text": [
      "imported myosin multifil\n"
     ]
    }
   ],
   "source": [
    "import json as json\n",
    "import matplotlib.pyplot as plt\n",
    "import os\n",
    "\n",
    "import multifil"
   ]
  },
  {
   "cell_type": "code",
   "execution_count": 1,
   "metadata": {},
   "outputs": [],
   "source": [
    "def print_constants(constants, print_address=False):\n",
    "    for f_type, filaments in constants.items():\n",
    "        print(f_type)\n",
    "        for address, filament in filaments.items():\n",
    "            address = \"\\t\" + str(address)\n",
    "            if not print_address:\n",
    "                address = \"\"\n",
    "            print(address, \"\\t\", end = \"\")\n",
    "            \n",
    "            for constant, value in filament.items():\n",
    "                print(constant, \"=\", value, end=\" \")\n",
    "            if len(filaments.keys()) < 50:\n",
    "                print()\n",
    "            else:\n",
    "                print(\", \", end=\"\\t\")"
   ]
  },
  {
   "cell_type": "code",
   "execution_count": null,
   "metadata": {},
   "outputs": [],
   "source": [
    "hs = multifil.hs.hs()  # Run the model with a_p = 1.0, allowing xb cycling\n",
    "forces = hs.run(10)"
   ]
  },
  {
   "cell_type": "code",
   "execution_count": null,
   "metadata": {},
   "outputs": [],
   "source": [
    "fig, ax = plt.subplots(1,1)\n",
    "ax.plot(forces)\n",
    "ax.set(xlabel=\"Timestep (ms)\", ylabel=\"Force (pN)\")\n",
    "plt.tight_layout()"
   ]
  },
  {
   "cell_type": "code",
   "execution_count": null,
   "metadata": {},
   "outputs": [],
   "source": [
    "time_trace = multifil.aws.metas.time(\n",
    "    .5, # ms per timestep\n",
    "    1000, # ms to run for\n",
    "                                    )\n",
    "length_trace = multifil.aws.metas.zline_workloop(\n",
    "    900, # resting hs length \n",
    "    0, # peak to peak amp \n",
    "    1, # cycle freq in Hz \n",
    "    time_trace\n",
    "                                                )\n",
    "\n",
    "'''init params freq=25, phase=0.1, stim_duration=20, influx_time=2, half_life=10, time=time'''\n",
    "'''first twitch: 5, 10, 50, 2, 10'''\n",
    "'''positive workloop params: 25, # freq in Hz, 0.1, # phase offset, 10, # stimulus duration in ms\n",
    "    2, # time it takes for ca to go from 10 to 90% of influx level, 10, # half life of Ca decay, time_trace'''\n",
    "actin_permissiveness_trace = multifil.aws.metas.actin_permissiveness_workloop(\n",
    "    1, # freq in Hz \n",
    "    0.01, # phase offset \n",
    "    20, # stimulus duration in ms\n",
    "    2, # time it takes for ca to go from 10 to 90% of influx level\n",
    "    50, # half life of Ca decay \n",
    "    time_trace)"
   ]
  },
  {
   "cell_type": "code",
   "execution_count": null,
   "metadata": {},
   "outputs": [],
   "source": [
    "import calciumTraces"
   ]
  },
  {
   "cell_type": "code",
   "execution_count": null,
   "metadata": {},
   "outputs": [],
   "source": [
    "actin_permissiveness_trace = calciumTraces.davis_2016_ca()['WT']\n",
    "plt.plot(actin_permissiveness_trace)\n",
    "\n",
    "import amautil\n",
    "plt.plot(amautil.run_avg(actin_permissiveness_trace, 500))"
   ]
  },
  {
   "cell_type": "code",
   "execution_count": 2,
   "metadata": {},
   "outputs": [],
   "source": [
    "import treatment_definitions as td"
   ]
  },
  {
   "cell_type": "code",
   "execution_count": 3,
   "metadata": {},
   "outputs": [],
   "source": [
    "time_trace, length_trace, actin_permissiveness_trace = td.general_form()"
   ]
  },
  {
   "cell_type": "code",
   "execution_count": 4,
   "metadata": {},
   "outputs": [
    {
     "data": {
      "image/png": "[encoded data removed]",
      "text/plain": [
       "<Figure size 432x288 with 2 Axes>"
      ]
     },
     "metadata": {
      "needs_background": "light"
     },
     "output_type": "display_data"
    }
   ],
   "source": [
    "fig, axes = plt.subplots(2,1,sharex=True)\n",
    "axes[0].plot(time_trace, length_trace)\n",
    "axes[0].set(ylabel='hs length (nm)')\n",
    "axes[1].scatter(time_trace, actin_permissiveness_trace)\n",
    "axes[1].set(ylabel='actin permissiveness',\n",
    "           xlabel='time (ms)')\n",
    "plt.tight_layout()"
   ]
  },
  {
   "cell_type": "code",
   "execution_count": 5,
   "metadata": {},
   "outputs": [
    {
     "name": "stdout",
     "output_type": "stream",
     "text": [
      "4c18bbf4-5f10-11ea-bff9-185680feb82e\n"
     ]
    }
   ],
   "source": [
    "output_dir = \"../_proofOfConcept/\"\n",
    "\n",
    "params = {\"ti_a\":0,\n",
    "          \"mh_c_ks\":0.5, \"mh_c_kw\":0.5, \"mh_c_rs\":0.5, \"mh_c_rw\":0.5,\n",
    "          \"mh_g_ks\":0.5, \"mh_g_kw\":0.5, \"mh_g_rs\":0.5, \"mh_g_rw\":0.5,}\n",
    "\n",
    "wl_meta = multifil.aws.metas.emit(output_dir, # local dir to save run output to\n",
    "                                  None, #s3 bucket to upload results to\n",
    "                                  time_trace, \n",
    "                                  0.5, # poisson ratio, set to const vol here\n",
    "                                 None, # intial ls, using default by passing none\n",
    "                                 length_trace, \n",
    "                                 actin_permissiveness_trace, \n",
    "                                 \"an example run\", # comment describing run\n",
    "                                 True, # whether to write out resulting file \n",
    "                                  #or just pass back to variable\n",
    "                                 params)\n",
    "run_name = wl_meta['name']\n",
    "print(run_name)\n",
    "run_file = output_dir + run_name + \".meta.json\""
   ]
  },
  {
   "cell_type": "code",
   "execution_count": 10,
   "metadata": {},
   "outputs": [
    {
     "name": "stdout",
     "output_type": "stream",
     "text": [
      "name\n",
      "comment\n",
      "path_local\n",
      "path_s3\n",
      "poisson_ratio\n",
      "lattice_spacing\n",
      "z_line\n",
      "actin_permissiveness\n",
      "hs_params\n",
      "timestep_length\n",
      "timestep_number\n",
      "dict_keys(['ti_a', 'mh_c_ks', 'mh_c_kw', 'mh_c_rs', 'mh_c_rw', 'mh_g_ks', 'mh_g_kw', 'mh_g_rs', 'mh_g_rw'])\n"
     ]
    }
   ],
   "source": [
    "for key in wl_meta.keys():\n",
    "    print(key)\n",
    "    \n",
    "print(wl_meta['hs_params'].keys())"
   ]
  },
  {
   "cell_type": "code",
   "execution_count": 7,
   "metadata": {},
   "outputs": [
    {
     "name": "stdout",
     "output_type": "stream",
     "text": [
      "Unknown Kwarg: mh_c_rs\n",
      "Unknown Kwarg: mh_c_rw\n",
      "Unknown Kwarg: mh_g_ks\n",
      "Unknown Kwarg: mh_g_kw\n",
      "Unknown Kwarg: mh_g_rs\n",
      "Unknown Kwarg: mh_g_rw\n",
      "run.py MainProcess # ## finished 1/3 steps, 0h0m0s left\n"
     ]
    },
    {
     "name": "stderr",
     "output_type": "stream",
     "text": [
      "C:\\Users\\Anthony\\Documents\\github\\fd_multifil\\multifil\\multifil\\ti.py:171: UserWarning: Check radial force direction in titin\n",
      "  warnings.warn(\"Check radial force direction in titin\")\n"
     ]
    },
    {
     "name": "stdout",
     "output_type": "stream",
     "text": [
      "run.py MainProcess # ## model finished, uploading\n",
      "run.py MainProcess # ## uploading finished, done with this run\n"
     ]
    }
   ],
   "source": [
    "run_manager = multifil.aws.run.manage(run_file, False) # have run.py create the sarc from meta\n",
    "# Begin running\n",
    "run_manager.run_and_save()   # with our new sarc, run it"
   ]
  },
  {
   "cell_type": "code",
   "execution_count": 8,
   "metadata": {},
   "outputs": [],
   "source": [
    "def print_constants(constants, print_address=False):\n",
    "    for f_type, filaments in constants.items():\n",
    "        print(f_type)\n",
    "        for address, filament in filaments.items():\n",
    "            address = \"\\t\" + str(address)\n",
    "            if not print_address:\n",
    "                address = \"\"\n",
    "            print(address, \"\\t\", end = \"\")\n",
    "            \n",
    "            for constant, value in filament.items():\n",
    "                print(constant, \"=\", value, end=\" \")\n",
    "            if len(filaments.keys()) < 50:\n",
    "                print()\n",
    "            else:\n",
    "                print(\", \", end=\"\\t\")"
   ]
  },
  {
   "cell_type": "code",
   "execution_count": 9,
   "metadata": {
    "scrolled": false
   },
   "outputs": [
    {
     "name": "stdout",
     "output_type": "stream",
     "text": [
      "4c18bbf4-5f10-11ea-bff9-185680feb82e\n",
      "actin_permissiveness, axial_force, constants, lattice_spacing, name, radial_force_y, radial_force_z, radial_tension, thick_displace_max, thick_displace_mean, thick_displace_min, thick_displace_std, thin_displace_max, thin_displace_mean, thin_displace_min, thin_displace_std, timestep, timestep_length, xb_fraction_free, xb_fraction_loose, xb_fraction_tight, xb_trans_12, xb_trans_13, xb_trans_21, xb_trans_23, xb_trans_31, xb_trans_32, xb_trans_static, z_line, \n",
      "\n",
      "af\n",
      " \taf_k = 1743 \n",
      " \taf_k = 1743 \n",
      " \taf_k = 1743 \n",
      " \taf_k = 1743 \n",
      " \taf_k = 1743 \n",
      " \taf_k = 1743 \n",
      " \taf_k = 1743 \n",
      " \taf_k = 1743 \n",
      "mf\n",
      " \tmf_k = 2020 \n",
      " \tmf_k = 2020 \n",
      " \tmf_k = 2020 \n",
      " \tmf_k = 2020 \n",
      "mh\n"
     ]
    },
    {
     "name": "stdout",
     "output_type": "stream",
     "text": [
      " \tmh_c_ks = 0.5 mh_c_kw = 0.5 mh_c_rs = 1.2775810124598492 mh_c_rw = 0.8230972752405258 mh_g_ks = 2 mh_g_kw = 2 mh_g_rs = 16.47 mh_g_rw = 19.93 , \t \tmh_c_ks = 0.5 mh_c_kw = 0.5 mh_c_rs = 1.2775810124598492 mh_c_rw = 0.8230972752405258 mh_g_ks = 2 mh_g_kw = 2 mh_g_rs = 16.47 mh_g_rw = 19.93 , \t \tmh_c_ks = 0.5 mh_c_kw = 0.5 mh_c_rs = 1.2775810124598492 mh_c_rw = 0.8230972752405258 mh_g_ks = 2 mh_g_kw = 2 mh_g_rs = 16.47 mh_g_rw = 19.93 , \t \tmh_c_ks = 0.5 mh_c_kw = 0.5 mh_c_rs = 1.2775810124598492 mh_c_rw = 0.8230972752405258 mh_g_ks = 2 mh_g_kw = 2 mh_g_rs = 16.47 mh_g_rw = 19.93 , \t \tmh_c_ks = 0.5 mh_c_kw = 0.5 mh_c_rs = 1.2775810124598492 mh_c_rw = 0.8230972752405258 mh_g_ks = 2 mh_g_kw = 2 mh_g_rs = 16.47 mh_g_rw = 19.93 , \t \tmh_c_ks = 0.5 mh_c_kw = 0.5 mh_c_rs = 1.2775810124598492 mh_c_rw = 0.8230972752405258 mh_g_ks = 2 mh_g_kw = 2 mh_g_rs = 16.47 mh_g_rw = 19.93 , \t \tmh_c_ks = 0.5 mh_c_kw = 0.5 mh_c_rs = 1.2775810124598492 mh_c_rw = 0.8230972752405258 mh_g_ks = 2 mh_g_kw = 2 mh_g_rs = 16.47 mh_g_rw = 19.93 , \t \tmh_c_ks = 0.5 mh_c_kw = 0.5 mh_c_rs = 1.2775810124598492 mh_c_rw = 0.8230972752405258 mh_g_ks = 2 mh_g_kw = 2 mh_g_rs = 16.47 mh_g_rw = 19.93 , \t \tmh_c_ks = 0.5 mh_c_kw = 0.5 mh_c_rs = 1.2775810124598492 mh_c_rw = 0.8230972752405258 mh_g_ks = 2 mh_g_kw = 2 mh_g_rs = 16.47 mh_g_rw = 19.93 , \t \tmh_c_ks = 0.5 mh_c_kw = 0.5 mh_c_rs = 1.2775810124598492 mh_c_rw = 0.8230972752405258 mh_g_ks = 2 mh_g_kw = 2 mh_g_rs = 16.47 mh_g_rw = 19.93 , \t \tmh_c_ks = 0.5 mh_c_kw = 0.5 mh_c_rs = 1.2775810124598492 mh_c_rw = 0.8230972752405258 mh_g_ks = 2 mh_g_kw = 2 mh_g_rs = 16.47 mh_g_rw = 19.93 , \t \tmh_c_ks = 0.5 mh_c_kw = 0.5 mh_c_rs = 1.2775810124598492 mh_c_rw = 0.8230972752405258 mh_g_ks = 2 mh_g_kw = 2 mh_g_rs = 16.47 mh_g_rw = 19.93 , \t \tmh_c_ks = 0.5 mh_c_kw = 0.5 mh_c_rs = 1.2775810124598492 mh_c_rw = 0.8230972752405258 mh_g_ks = 2 mh_g_kw = 2 mh_g_rs = 16.47 mh_g_rw = 19.93 , \t \tmh_c_ks = 0.5 mh_c_kw = 0.5 mh_c_rs = 1.2775810124598492 mh_c_rw = 0.8230972752405258 mh_g_ks = 2 mh_g_kw = 2 mh_g_rs = 16.47 mh_g_rw = 19.93 , \t \tmh_c_ks = 0.5 mh_c_kw = 0.5 mh_c_rs = 1.2775810124598492 mh_c_rw = 0.8230972752405258 mh_g_ks = 2 mh_g_kw = 2 mh_g_rs = 16.47 mh_g_rw = 19.93 , \t \tmh_c_ks = 0.5 mh_c_kw = 0.5 mh_c_rs = 1.2775810124598492 mh_c_rw = 0.8230972752405258 mh_g_ks = 2 mh_g_kw = 2 mh_g_rs = 16.47 mh_g_rw = 19.93 , \t \tmh_c_ks = 0.5 mh_c_kw = 0.5 mh_c_rs = 1.2775810124598492 mh_c_rw = 0.8230972752405258 mh_g_ks = 2 mh_g_kw = 2 mh_g_rs = 16.47 mh_g_rw = 19.93 , \t \tmh_c_ks = 0.5 mh_c_kw = 0.5 mh_c_rs = 1.2775810124598492 mh_c_rw = 0.8230972752405258 mh_g_ks = 2 mh_g_kw = 2 mh_g_rs = 16.47 mh_g_rw = 19.93 , \t \tmh_c_ks = 0.5 mh_c_kw = 0.5 mh_c_rs = 1.2775810124598492 mh_c_rw = 0.8230972752405258 mh_g_ks = 2 mh_g_kw = 2 mh_g_rs = 16.47 mh_g_rw = 19.93 , \t \tmh_c_ks = 0.5 mh_c_kw = 0.5 mh_c_rs = 1.2775810124598492 mh_c_rw = 0.8230972752405258 mh_g_ks = 2 mh_g_kw = 2 mh_g_rs = 16.47 mh_g_rw = 19.93 , \t \tmh_c_ks = 0.5 mh_c_kw = 0.5 mh_c_rs = 1.2775810124598492 mh_c_rw = 0.8230972752405258 mh_g_ks = 2 mh_g_kw = 2 mh_g_rs = 16.47 mh_g_rw = 19.93 , \t \tmh_c_ks = 0.5 mh_c_kw = 0.5 mh_c_rs = 1.2775810124598492 mh_c_rw = 0.8230972752405258 mh_g_ks = 2 mh_g_kw = 2 mh_g_rs = 16.47 mh_g_rw = 19.93 , \t \tmh_c_ks = 0.5 mh_c_kw = 0.5 mh_c_rs = 1.2775810124598492 mh_c_rw = 0.8230972752405258 mh_g_ks = 2 mh_g_kw = 2 mh_g_rs = 16.47 mh_g_rw = 19.93 , \t \tmh_c_ks = 0.5 mh_c_kw = 0.5 mh_c_rs = 1.2775810124598492 mh_c_rw = 0.8230972752405258 mh_g_ks = 2 mh_g_kw = 2 mh_g_rs = 16.47 mh_g_rw = 19.93 , \t \tmh_c_ks = 0.5 mh_c_kw = 0.5 mh_c_rs = 1.2775810124598492 mh_c_rw = 0.8230972752405258 mh_g_ks = 2 mh_g_kw = 2 mh_g_rs = 16.47 mh_g_rw = 19.93 , \t \tmh_c_ks = 0.5 mh_c_kw = 0.5 mh_c_rs = 1.2775810124598492 mh_c_rw = 0.8230972752405258 mh_g_ks = 2 mh_g_kw = 2 mh_g_rs = 16.47 mh_g_rw = 19.93 , \t \tmh_c_ks = 0.5 mh_c_kw = 0.5 mh_c_rs = 1.2775810124598492 mh_c_rw = 0.8230972752405258 mh_g_ks = 2 mh_g_kw = 2 mh_g_rs = 16.47 mh_g_rw = 19.93 , \t \tmh_c_ks = 0.5 mh_c_kw = 0.5 mh_c_rs = 1.2775810124598492 mh_c_rw = 0.8230972752405258 mh_g_ks = 2 mh_g_kw = 2 mh_g_rs = 16.47 mh_g_rw = 19.93 , \t \tmh_c_ks = 0.5 mh_c_kw = 0.5 mh_c_rs = 1.2775810124598492 mh_c_rw = 0.8230972752405258 mh_g_ks = 2 mh_g_kw = 2 mh_g_rs = 16.47 mh_g_rw = 19.93 , \t \tmh_c_ks = 0.5 mh_c_kw = 0.5 mh_c_rs = 1.2775810124598492 mh_c_rw = 0.8230972752405258 mh_g_ks = 2 mh_g_kw = 2 mh_g_rs = 16.47 mh_g_rw = 19.93 , \t \tmh_c_ks = 0.5 mh_c_kw = 0.5 mh_c_rs = 1.2775810124598492 mh_c_rw = 0.8230972752405258 mh_g_ks = 2 mh_g_kw = 2 mh_g_rs = 16.47 mh_g_rw = 19.93 , \t \tmh_c_ks = 0.5 mh_c_kw = 0.5 mh_c_rs = 1.2775810124598492 mh_c_rw = 0.8230972752405258 mh_g_ks = 2 mh_g_kw = 2 mh_g_rs = 16.47 mh_g_rw = 19.93 , \t \tmh_c_ks = 0.5 mh_c_kw = 0.5 mh_c_rs = 1.2775810124598492 mh_c_rw = 0.8230972752405258 mh_g_ks = 2 mh_g_kw = 2 mh_g_rs = 16.47 mh_g_rw = 19.93 , \t \tmh_c_ks = 0.5 mh_c_kw = 0.5 mh_c_rs = 1.2775810124598492 mh_c_rw = 0.8230972752405258 mh_g_ks = 2 mh_g_kw = 2 mh_g_rs = 16.47 mh_g_rw = 19.93 , \t \tmh_c_ks = 0.5 mh_c_kw = 0.5 mh_c_rs = 1.2775810124598492 mh_c_rw = 0.8230972752405258 mh_g_ks = 2 mh_g_kw = 2 mh_g_rs = 16.47 mh_g_rw = 19.93 , \t \tmh_c_ks = 0.5 mh_c_kw = 0.5 mh_c_rs = 1.2775810124598492 mh_c_rw = 0.8230972752405258 mh_g_ks = 2 mh_g_kw = 2 mh_g_rs = 16.47 mh_g_rw = 19.93 , \t \tmh_c_ks = 0.5 mh_c_kw = 0.5 mh_c_rs = 1.2775810124598492 mh_c_rw = 0.8230972752405258 mh_g_ks = 2 mh_g_kw = 2 mh_g_rs = 16.47 mh_g_rw = 19.93 , \t \tmh_c_ks = 0.5 mh_c_kw = 0.5 mh_c_rs = 1.2775810124598492 mh_c_rw = 0.8230972752405258 mh_g_ks = 2 mh_g_kw = 2 mh_g_rs = 16.47 mh_g_rw = 19.93 , \t \tmh_c_ks = 0.5 mh_c_kw = 0.5 mh_c_rs = 1.2775810124598492 mh_c_rw = 0.8230972752405258 mh_g_ks = 2 mh_g_kw = 2 mh_g_rs = 16.47 mh_g_rw = 19.93 , \t \tmh_c_ks = 0.5 mh_c_kw = 0.5 mh_c_rs = 1.2775810124598492 mh_c_rw = 0.8230972752405258 mh_g_ks = 2 mh_g_kw = 2 mh_g_rs = 16.47 mh_g_rw = 19.93 , \t \tmh_c_ks = 0.5 mh_c_kw = 0.5 mh_c_rs = 1.2775810124598492 mh_c_rw = 0.8230972752405258 mh_g_ks = 2 mh_g_kw = 2 mh_g_rs = 16.47 mh_g_rw = 19.93 , \t \tmh_c_ks = 0.5 mh_c_kw = 0.5 mh_c_rs = 1.2775810124598492 mh_c_rw = 0.8230972752405258 mh_g_ks = 2 mh_g_kw = 2 mh_g_rs = 16.47 mh_g_rw = 19.93 , \t \tmh_c_ks = 0.5 mh_c_kw = 0.5 mh_c_rs = 1.2775810124598492 mh_c_rw = 0.8230972752405258 mh_g_ks = 2 mh_g_kw = 2 mh_g_rs = 16.47 mh_g_rw = 19.93 , \t \tmh_c_ks = 0.5 mh_c_kw = 0.5 mh_c_rs = 1.2775810124598492 mh_c_rw = 0.8230972752405258 mh_g_ks = 2 mh_g_kw = 2 mh_g_rs = 16.47 mh_g_rw = 19.93 , \t \tmh_c_ks = 0.5 mh_c_kw = 0.5 mh_c_rs = 1.2775810124598492 mh_c_rw = 0.8230972752405258 mh_g_ks = 2 mh_g_kw = 2 mh_g_rs = 16.47 mh_g_rw = 19.93 , \t \tmh_c_ks = 0.5 mh_c_kw = 0.5 mh_c_rs = 1.2775810124598492 mh_c_rw = 0.8230972752405258 mh_g_ks = 2 mh_g_kw = 2 mh_g_rs = 16.47 mh_g_rw = 19.93 , \t \tmh_c_ks = 0.5 mh_c_kw = 0.5 mh_c_rs = 1.2775810124598492 mh_c_rw = 0.8230972752405258 mh_g_ks = 2 mh_g_kw = 2 mh_g_rs = 16.47 mh_g_rw = 19.93 , \t \tmh_c_ks = 0.5 mh_c_kw = 0.5 mh_c_rs = 1.2775810124598492 mh_c_rw = 0.8230972752405258 mh_g_ks = 2 mh_g_kw = 2 mh_g_rs = 16.47 mh_g_rw = 19.93 , \t \tmh_c_ks = 0.5 mh_c_kw = 0.5 mh_c_rs = 1.2775810124598492 mh_c_rw = 0.8230972752405258 mh_g_ks = 2 mh_g_kw = 2 mh_g_rs = 16.47 mh_g_rw = 19.93 , \t \tmh_c_ks = 0.5 mh_c_kw = 0.5 mh_c_rs = 1.2775810124598492 mh_c_rw = 0.8230972752405258 mh_g_ks = 2 mh_g_kw = 2 mh_g_rs = 16.47 mh_g_rw = 19.93 , \t \tmh_c_ks = 0.5 mh_c_kw = 0.5 mh_c_rs = 1.2775810124598492 mh_c_rw = 0.8230972752405258 mh_g_ks = 2 mh_g_kw = 2 mh_g_rs = 16.47 mh_g_rw = 19.93 , \t \tmh_c_ks = 0.5 mh_c_kw = 0.5 mh_c_rs = 1.2775810124598492 mh_c_rw = 0.8230972752405258 mh_g_ks = 2 mh_g_kw = 2 mh_g_rs = 16.47 mh_g_rw = 19.93 , \t \tmh_c_ks = 0.5 mh_c_kw = 0.5 mh_c_rs = 1.2775810124598492 mh_c_rw = 0.8230972752405258 mh_g_ks = 2 mh_g_kw = 2 mh_g_rs = 16.47 mh_g_rw = 19.93 , \t \tmh_c_ks = 0.5 mh_c_kw = 0.5 mh_c_rs = 1.2775810124598492 mh_c_rw = 0.8230972752405258 mh_g_ks = 2 mh_g_kw = 2 mh_g_rs = 16.47 mh_g_rw = 19.93 , \t \tmh_c_ks = 0.5 mh_c_kw = 0.5 mh_c_rs = 1.2775810124598492 mh_c_rw = 0.8230972752405258 mh_g_ks = 2 mh_g_kw = 2 mh_g_rs = 16.47 mh_g_rw = 19.93 , \t \tmh_c_ks = 0.5 mh_c_kw = 0.5 mh_c_rs = 1.2775810124598492 mh_c_rw = 0.8230972752405258 mh_g_ks = 2 mh_g_kw = 2 mh_g_rs = 16.47 mh_g_rw = 19.93 , \t \tmh_c_ks = 0.5 mh_c_kw = 0.5 mh_c_rs = 1.2775810124598492 mh_c_rw = 0.8230972752405258 mh_g_ks = 2 mh_g_kw = 2 mh_g_rs = 16.47 mh_g_rw = 19.93 , \t \tmh_c_ks = 0.5 mh_c_kw = 0.5 mh_c_rs = 1.2775810124598492 mh_c_rw = 0.8230972752405258 mh_g_ks = 2 mh_g_kw = 2 mh_g_rs = 16.47 mh_g_rw = 19.93 , \t \tmh_c_ks = 0.5 mh_c_kw = 0.5 mh_c_rs = 1.2775810124598492 mh_c_rw = 0.8230972752405258 mh_g_ks = 2 mh_g_kw = 2 mh_g_rs = 16.47 mh_g_rw = 19.93 , \t \tmh_c_ks = 0.5 mh_c_kw = 0.5 mh_c_rs = 1.2775810124598492 mh_c_rw = 0.8230972752405258 mh_g_ks = 2 mh_g_kw = 2 mh_g_rs = 16.47 mh_g_rw = 19.93 , \t \tmh_c_ks = 0.5 mh_c_kw = 0.5 mh_c_rs = 1.2775810124598492 mh_c_rw = 0.8230972752405258 mh_g_ks = 2 mh_g_kw = 2 mh_g_rs = 16.47 mh_g_rw = 19.93 , \t \tmh_c_ks = 0.5 mh_c_kw = 0.5 mh_c_rs = 1.2775810124598492 mh_c_rw = 0.8230972752405258 mh_g_ks = 2 mh_g_kw = 2 mh_g_rs = 16.47 mh_g_rw = 19.93 , \t \tmh_c_ks = 0.5 mh_c_kw = 0.5 mh_c_rs = 1.2775810124598492 mh_c_rw = 0.8230972752405258 mh_g_ks = 2 mh_g_kw = 2 mh_g_rs = 16.47 mh_g_rw = 19.93 , \t \tmh_c_ks = 0.5 mh_c_kw = 0.5 mh_c_rs = 1.2775810124598492 mh_c_rw = 0.8230972752405258 mh_g_ks = 2 mh_g_kw = 2 mh_g_rs = 16.47 mh_g_rw = 19.93 , \t \tmh_c_ks = 0.5 mh_c_kw = 0.5 mh_c_rs = 1.2775810124598492 mh_c_rw = 0.8230972752405258 mh_g_ks = 2 mh_g_kw = 2 mh_g_rs = 16.47 mh_g_rw = 19.93 , \t \tmh_c_ks = 0.5 mh_c_kw = 0.5 mh_c_rs = 1.2775810124598492 mh_c_rw = 0.8230972752405258 mh_g_ks = 2 mh_g_kw = 2 mh_g_rs = 16.47 mh_g_rw = 19.93 , \t \tmh_c_ks = 0.5 mh_c_kw = 0.5 mh_c_rs = 1.2775810124598492 mh_c_rw = 0.8230972752405258 mh_g_ks = 2 mh_g_kw = 2 mh_g_rs = 16.47 mh_g_rw = 19.93 , \t \tmh_c_ks = 0.5 mh_c_kw = 0.5 mh_c_rs = 1.2775810124598492 mh_c_rw = 0.8230972752405258 mh_g_ks = 2 mh_g_kw = 2 mh_g_rs = 16.47 mh_g_rw = 19.93 , \t \tmh_c_ks = 0.5 mh_c_kw = 0.5 mh_c_rs = 1.2775810124598492 mh_c_rw = 0.8230972752405258 mh_g_ks = 2 mh_g_kw = 2 mh_g_rs = 16.47 mh_g_rw = 19.93 , \t \tmh_c_ks = 0.5 mh_c_kw = 0.5 mh_c_rs = 1.2775810124598492 mh_c_rw = 0.8230972752405258 mh_g_ks = 2 mh_g_kw = 2 mh_g_rs = 16.47 mh_g_rw = 19.93 , \t \tmh_c_ks = 0.5 mh_c_kw = 0.5 mh_c_rs = 1.2775810124598492 mh_c_rw = 0.8230972752405258 mh_g_ks = 2 mh_g_kw = 2 mh_g_rs = 16.47 mh_g_rw = 19.93 , \t \tmh_c_ks = 0.5 mh_c_kw = 0.5 mh_c_rs = 1.2775810124598492 mh_c_rw = 0.8230972752405258 mh_g_ks = 2 mh_g_kw = 2 mh_g_rs = 16.47 mh_g_rw = 19.93 , \t \tmh_c_ks = 0.5 mh_c_kw = 0.5 mh_c_rs = 1.2775810124598492 mh_c_rw = 0.8230972752405258 mh_g_ks = 2 mh_g_kw = 2 mh_g_rs = 16.47 mh_g_rw = 19.93 , \t \tmh_c_ks = 0.5 mh_c_kw = 0.5 mh_c_rs = 1.2775810124598492 mh_c_rw = 0.8230972752405258 mh_g_ks = 2 mh_g_kw = 2 mh_g_rs = 16.47 mh_g_rw = 19.93 , \t \tmh_c_ks = 0.5 mh_c_kw = 0.5 mh_c_rs = 1.2775810124598492 mh_c_rw = 0.8230972752405258 mh_g_ks = 2 mh_g_kw = 2 mh_g_rs = 16.47 mh_g_rw = 19.93 , \t \tmh_c_ks = 0.5 mh_c_kw = 0.5 mh_c_rs = 1.2775810124598492 mh_c_rw = 0.8230972752405258 mh_g_ks = 2 mh_g_kw = 2 mh_g_rs = 16.47 mh_g_rw = 19.93 , \t \tmh_c_ks = 0.5 mh_c_kw = 0.5 mh_c_rs = 1.2775810124598492 mh_c_rw = 0.8230972752405258 mh_g_ks = 2 mh_g_kw = 2 mh_g_rs = 16.47 mh_g_rw = 19.93 , \t \tmh_c_ks = 0.5 mh_c_kw = 0.5 mh_c_rs = 1.2775810124598492 mh_c_rw = 0.8230972752405258 mh_g_ks = 2 mh_g_kw = 2 mh_g_rs = 16.47 mh_g_rw = 19.93 , \t \tmh_c_ks = 0.5 mh_c_kw = 0.5 mh_c_rs = 1.2775810124598492 mh_c_rw = 0.8230972752405258 mh_g_ks = 2 mh_g_kw = 2 mh_g_rs = 16.47 mh_g_rw = 19.93 , \t \tmh_c_ks = 0.5 mh_c_kw = 0.5 mh_c_rs = 1.2775810124598492 mh_c_rw = 0.8230972752405258 mh_g_ks = 2 mh_g_kw = 2 mh_g_rs = 16.47 mh_g_rw = 19.93 , \t \tmh_c_ks = 0.5 mh_c_kw = 0.5 mh_c_rs = 1.2775810124598492 mh_c_rw = 0.8230972752405258 mh_g_ks = 2 mh_g_kw = 2 mh_g_rs = 16.47 mh_g_rw = 19.93 , \t \tmh_c_ks = 0.5 mh_c_kw = 0.5 mh_c_rs = 1.2775810124598492 mh_c_rw = 0.8230972752405258 mh_g_ks = 2 mh_g_kw = 2 mh_g_rs = 16.47 mh_g_rw = 19.93 , \t \tmh_c_ks = 0.5 mh_c_kw = 0.5 mh_c_rs = 1.2775810124598492 mh_c_rw = 0.8230972752405258 mh_g_ks = 2 mh_g_kw = 2 mh_g_rs = 16.47 mh_g_rw = 19.93 , \t \tmh_c_ks = 0.5 mh_c_kw = 0.5 mh_c_rs = 1.2775810124598492 mh_c_rw = 0.8230972752405258 mh_g_ks = 2 mh_g_kw = 2 mh_g_rs = 16.47 mh_g_rw = 19.93 , \t \tmh_c_ks = 0.5 mh_c_kw = 0.5 mh_c_rs = 1.2775810124598492 mh_c_rw = 0.8230972752405258 mh_g_ks = 2 mh_g_kw = 2 mh_g_rs = 16.47 mh_g_rw = 19.93 , \t \tmh_c_ks = 0.5 mh_c_kw = 0.5 mh_c_rs = 1.2775810124598492 mh_c_rw = 0.8230972752405258 mh_g_ks = 2 mh_g_kw = 2 mh_g_rs = 16.47 mh_g_rw = 19.93 , \t \tmh_c_ks = 0.5 mh_c_kw = 0.5 mh_c_rs = 1.2775810124598492 mh_c_rw = 0.8230972752405258 mh_g_ks = 2 mh_g_kw = 2 mh_g_rs = 16.47 mh_g_rw = 19.93 , \t \tmh_c_ks = 0.5 mh_c_kw = 0.5 mh_c_rs = 1.2775810124598492 mh_c_rw = 0.8230972752405258 mh_g_ks = 2 mh_g_kw = 2 mh_g_rs = 16.47 mh_g_rw = 19.93 , \t \tmh_c_ks = 0.5 mh_c_kw = 0.5 mh_c_rs = 1.2775810124598492 mh_c_rw = 0.8230972752405258 mh_g_ks = 2 mh_g_kw = 2 mh_g_rs = 16.47 mh_g_rw = 19.93 , \t \tmh_c_ks = 0.5 mh_c_kw = 0.5 mh_c_rs = 1.2775810124598492 mh_c_rw = 0.8230972752405258 mh_g_ks = 2 mh_g_kw = 2 mh_g_rs = 16.47 mh_g_rw = 19.93 , \t \tmh_c_ks = 0.5 mh_c_kw = 0.5 mh_c_rs = 1.2775810124598492 mh_c_rw = 0.8230972752405258 mh_g_ks = 2 mh_g_kw = 2 mh_g_rs = 16.47 mh_g_rw = 19.93 , \t \tmh_c_ks = 0.5 mh_c_kw = 0.5 mh_c_rs = 1.2775810124598492 mh_c_rw = 0.8230972752405258 mh_g_ks = 2 mh_g_kw = 2 mh_g_rs = 16.47 mh_g_rw = 19.93 , \t \tmh_c_ks = 0.5 mh_c_kw = 0.5 mh_c_rs = 1.2775810124598492 mh_c_rw = 0.8230972752405258 mh_g_ks = 2 mh_g_kw = 2 mh_g_rs = 16.47 mh_g_rw = 19.93 , \t \tmh_c_ks = 0.5 mh_c_kw = 0.5 mh_c_rs = 1.2775810124598492 mh_c_rw = 0.8230972752405258 mh_g_ks = 2 mh_g_kw = 2 mh_g_rs = 16.47 mh_g_rw = 19.93 , \t \tmh_c_ks = 0.5 mh_c_kw = 0.5 mh_c_rs = 1.2775810124598492 mh_c_rw = 0.8230972752405258 mh_g_ks = 2 mh_g_kw = 2 mh_g_rs = 16.47 mh_g_rw = 19.93 , \t \tmh_c_ks = 0.5 mh_c_kw = 0.5 mh_c_rs = 1.2775810124598492 mh_c_rw = 0.8230972752405258 mh_g_ks = 2 mh_g_kw = 2 mh_g_rs = 16.47 mh_g_rw = 19.93 , \t \tmh_c_ks = 0.5 mh_c_kw = 0.5 mh_c_rs = 1.2775810124598492 mh_c_rw = 0.8230972752405258 mh_g_ks = 2 mh_g_kw = 2 mh_g_rs = 16.47 mh_g_rw = 19.93 , \t \tmh_c_ks = 0.5 mh_c_kw = 0.5 mh_c_rs = 1.2775810124598492 mh_c_rw = 0.8230972752405258 mh_g_ks = 2 mh_g_kw = 2 mh_g_rs = 16.47 mh_g_rw = 19.93 , \t \tmh_c_ks = 0.5 mh_c_kw = 0.5 mh_c_rs = 1.2775810124598492 mh_c_rw = 0.8230972752405258 mh_g_ks = 2 mh_g_kw = 2 mh_g_rs = 16.47 mh_g_rw = 19.93 , \t \tmh_c_ks = 0.5 mh_c_kw = 0.5 mh_c_rs = 1.2775810124598492 mh_c_rw = 0.8230972752405258 mh_g_ks = 2 mh_g_kw = 2 mh_g_rs = 16.47 mh_g_rw = 19.93 , \t \tmh_c_ks = 0.5 mh_c_kw = 0.5 mh_c_rs = 1.2775810124598492 mh_c_rw = 0.8230972752405258 mh_g_ks = 2 mh_g_kw = 2 mh_g_rs = 16.47 mh_g_rw = 19.93 , \t \tmh_c_ks = 0.5 mh_c_kw = 0.5 mh_c_rs = 1.2775810124598492 mh_c_rw = 0.8230972752405258 mh_g_ks = 2 mh_g_kw = 2 mh_g_rs = 16.47 mh_g_rw = 19.93 , \t \tmh_c_ks = 0.5 mh_c_kw = 0.5 mh_c_rs = 1.2775810124598492 mh_c_rw = 0.8230972752405258 mh_g_ks = 2 mh_g_kw = 2 mh_g_rs = 16.47 mh_g_rw = 19.93 , \t \tmh_c_ks = 0.5 mh_c_kw = 0.5 mh_c_rs = 1.2775810124598492 mh_c_rw = 0.8230972752405258 mh_g_ks = 2 mh_g_kw = 2 mh_g_rs = 16.47 mh_g_rw = 19.93 , \t \tmh_c_ks = 0.5 mh_c_kw = 0.5 mh_c_rs = 1.2775810124598492 mh_c_rw = 0.8230972752405258 mh_g_ks = 2 mh_g_kw = 2 mh_g_rs = 16.47 mh_g_rw = 19.93 , \t \tmh_c_ks = 0.5 mh_c_kw = 0.5 mh_c_rs = 1.2775810124598492 mh_c_rw = 0.8230972752405258 mh_g_ks = 2 mh_g_kw = 2 mh_g_rs = "
     ]
    },
    {
     "name": "stdout",
     "output_type": "stream",
     "text": [
      "16.47 mh_g_rw = 19.93 , \t \tmh_c_ks = 0.5 mh_c_kw = 0.5 mh_c_rs = 1.2775810124598492 mh_c_rw = 0.8230972752405258 mh_g_ks = 2 mh_g_kw = 2 mh_g_rs = 16.47 mh_g_rw = 19.93 , \t \tmh_c_ks = 0.5 mh_c_kw = 0.5 mh_c_rs = 1.2775810124598492 mh_c_rw = 0.8230972752405258 mh_g_ks = 2 mh_g_kw = 2 mh_g_rs = 16.47 mh_g_rw = 19.93 , \t \tmh_c_ks = 0.5 mh_c_kw = 0.5 mh_c_rs = 1.2775810124598492 mh_c_rw = 0.8230972752405258 mh_g_ks = 2 mh_g_kw = 2 mh_g_rs = 16.47 mh_g_rw = 19.93 , \t \tmh_c_ks = 0.5 mh_c_kw = 0.5 mh_c_rs = 1.2775810124598492 mh_c_rw = 0.8230972752405258 mh_g_ks = 2 mh_g_kw = 2 mh_g_rs = 16.47 mh_g_rw = 19.93 , \t \tmh_c_ks = 0.5 mh_c_kw = 0.5 mh_c_rs = 1.2775810124598492 mh_c_rw = 0.8230972752405258 mh_g_ks = 2 mh_g_kw = 2 mh_g_rs = 16.47 mh_g_rw = 19.93 , \t \tmh_c_ks = 0.5 mh_c_kw = 0.5 mh_c_rs = 1.2775810124598492 mh_c_rw = 0.8230972752405258 mh_g_ks = 2 mh_g_kw = 2 mh_g_rs = 16.47 mh_g_rw = 19.93 , \t \tmh_c_ks = 0.5 mh_c_kw = 0.5 mh_c_rs = 1.2775810124598492 mh_c_rw = 0.8230972752405258 mh_g_ks = 2 mh_g_kw = 2 mh_g_rs = 16.47 mh_g_rw = 19.93 , \t \tmh_c_ks = 0.5 mh_c_kw = 0.5 mh_c_rs = 1.2775810124598492 mh_c_rw = 0.8230972752405258 mh_g_ks = 2 mh_g_kw = 2 mh_g_rs = 16.47 mh_g_rw = 19.93 , \t \tmh_c_ks = 0.5 mh_c_kw = 0.5 mh_c_rs = 1.2775810124598492 mh_c_rw = 0.8230972752405258 mh_g_ks = 2 mh_g_kw = 2 mh_g_rs = 16.47 mh_g_rw = 19.93 , \t \tmh_c_ks = 0.5 mh_c_kw = 0.5 mh_c_rs = 1.2775810124598492 mh_c_rw = 0.8230972752405258 mh_g_ks = 2 mh_g_kw = 2 mh_g_rs = 16.47 mh_g_rw = 19.93 , \t \tmh_c_ks = 0.5 mh_c_kw = 0.5 mh_c_rs = 1.2775810124598492 mh_c_rw = 0.8230972752405258 mh_g_ks = 2 mh_g_kw = 2 mh_g_rs = 16.47 mh_g_rw = 19.93 , \t \tmh_c_ks = 0.5 mh_c_kw = 0.5 mh_c_rs = 1.2775810124598492 mh_c_rw = 0.8230972752405258 mh_g_ks = 2 mh_g_kw = 2 mh_g_rs = 16.47 mh_g_rw = 19.93 , \t \tmh_c_ks = 0.5 mh_c_kw = 0.5 mh_c_rs = 1.2775810124598492 mh_c_rw = 0.8230972752405258 mh_g_ks = 2 mh_g_kw = 2 mh_g_rs = 16.47 mh_g_rw = 19.93 , \t \tmh_c_ks = 0.5 mh_c_kw = 0.5 mh_c_rs = 1.2775810124598492 mh_c_rw = 0.8230972752405258 mh_g_ks = 2 mh_g_kw = 2 mh_g_rs = 16.47 mh_g_rw = 19.93 , \t \tmh_c_ks = 0.5 mh_c_kw = 0.5 mh_c_rs = 1.2775810124598492 mh_c_rw = 0.8230972752405258 mh_g_ks = 2 mh_g_kw = 2 mh_g_rs = 16.47 mh_g_rw = 19.93 , \t \tmh_c_ks = 0.5 mh_c_kw = 0.5 mh_c_rs = 1.2775810124598492 mh_c_rw = 0.8230972752405258 mh_g_ks = 2 mh_g_kw = 2 mh_g_rs = 16.47 mh_g_rw = 19.93 , \t \tmh_c_ks = 0.5 mh_c_kw = 0.5 mh_c_rs = 1.2775810124598492 mh_c_rw = 0.8230972752405258 mh_g_ks = 2 mh_g_kw = 2 mh_g_rs = 16.47 mh_g_rw = 19.93 , \t \tmh_c_ks = 0.5 mh_c_kw = 0.5 mh_c_rs = 1.2775810124598492 mh_c_rw = 0.8230972752405258 mh_g_ks = 2 mh_g_kw = 2 mh_g_rs = 16.47 mh_g_rw = 19.93 , \t \tmh_c_ks = 0.5 mh_c_kw = 0.5 mh_c_rs = 1.2775810124598492 mh_c_rw = 0.8230972752405258 mh_g_ks = 2 mh_g_kw = 2 mh_g_rs = 16.47 mh_g_rw = 19.93 , \t \tmh_c_ks = 0.5 mh_c_kw = 0.5 mh_c_rs = 1.2775810124598492 mh_c_rw = 0.8230972752405258 mh_g_ks = 2 mh_g_kw = 2 mh_g_rs = 16.47 mh_g_rw = 19.93 , \t \tmh_c_ks = 0.5 mh_c_kw = 0.5 mh_c_rs = 1.2775810124598492 mh_c_rw = 0.8230972752405258 mh_g_ks = 2 mh_g_kw = 2 mh_g_rs = 16.47 mh_g_rw = 19.93 , \t \tmh_c_ks = 0.5 mh_c_kw = 0.5 mh_c_rs = 1.2775810124598492 mh_c_rw = 0.8230972752405258 mh_g_ks = 2 mh_g_kw = 2 mh_g_rs = 16.47 mh_g_rw = 19.93 , \t \tmh_c_ks = 0.5 mh_c_kw = 0.5 mh_c_rs = 1.2775810124598492 mh_c_rw = 0.8230972752405258 mh_g_ks = 2 mh_g_kw = 2 mh_g_rs = 16.47 mh_g_rw = 19.93 , \t \tmh_c_ks = 0.5 mh_c_kw = 0.5 mh_c_rs = 1.2775810124598492 mh_c_rw = 0.8230972752405258 mh_g_ks = 2 mh_g_kw = 2 mh_g_rs = 16.47 mh_g_rw = 19.93 , \t \tmh_c_ks = 0.5 mh_c_kw = 0.5 mh_c_rs = 1.2775810124598492 mh_c_rw = 0.8230972752405258 mh_g_ks = 2 mh_g_kw = 2 mh_g_rs = 16.47 mh_g_rw = 19.93 , \t \tmh_c_ks = 0.5 mh_c_kw = 0.5 mh_c_rs = 1.2775810124598492 mh_c_rw = 0.8230972752405258 mh_g_ks = 2 mh_g_kw = 2 mh_g_rs = 16.47 mh_g_rw = 19.93 , \t \tmh_c_ks = 0.5 mh_c_kw = 0.5 mh_c_rs = 1.2775810124598492 mh_c_rw = 0.8230972752405258 mh_g_ks = 2 mh_g_kw = 2 mh_g_rs = 16.47 mh_g_rw = 19.93 , \t \tmh_c_ks = 0.5 mh_c_kw = 0.5 mh_c_rs = 1.2775810124598492 mh_c_rw = 0.8230972752405258 mh_g_ks = 2 mh_g_kw = 2 mh_g_rs = 16.47 mh_g_rw = 19.93 , \t \tmh_c_ks = 0.5 mh_c_kw = 0.5 mh_c_rs = 1.2775810124598492 mh_c_rw = 0.8230972752405258 mh_g_ks = 2 mh_g_kw = 2 mh_g_rs = 16.47 mh_g_rw = 19.93 , \t \tmh_c_ks = 0.5 mh_c_kw = 0.5 mh_c_rs = 1.2775810124598492 mh_c_rw = 0.8230972752405258 mh_g_ks = 2 mh_g_kw = 2 mh_g_rs = 16.47 mh_g_rw = 19.93 , \t \tmh_c_ks = 0.5 mh_c_kw = 0.5 mh_c_rs = 1.2775810124598492 mh_c_rw = 0.8230972752405258 mh_g_ks = 2 mh_g_kw = 2 mh_g_rs = 16.47 mh_g_rw = 19.93 , \t \tmh_c_ks = 0.5 mh_c_kw = 0.5 mh_c_rs = 1.2775810124598492 mh_c_rw = 0.8230972752405258 mh_g_ks = 2 mh_g_kw = 2 mh_g_rs = 16.47 mh_g_rw = 19.93 , \t \tmh_c_ks = 0.5 mh_c_kw = 0.5 mh_c_rs = 1.2775810124598492 mh_c_rw = 0.8230972752405258 mh_g_ks = 2 mh_g_kw = 2 mh_g_rs = 16.47 mh_g_rw = 19.93 , \t \tmh_c_ks = 0.5 mh_c_kw = 0.5 mh_c_rs = 1.2775810124598492 mh_c_rw = 0.8230972752405258 mh_g_ks = 2 mh_g_kw = 2 mh_g_rs = 16.47 mh_g_rw = 19.93 , \t \tmh_c_ks = 0.5 mh_c_kw = 0.5 mh_c_rs = 1.2775810124598492 mh_c_rw = 0.8230972752405258 mh_g_ks = 2 mh_g_kw = 2 mh_g_rs = 16.47 mh_g_rw = 19.93 , \t \tmh_c_ks = 0.5 mh_c_kw = 0.5 mh_c_rs = 1.2775810124598492 mh_c_rw = 0.8230972752405258 mh_g_ks = 2 mh_g_kw = 2 mh_g_rs = 16.47 mh_g_rw = 19.93 , \t \tmh_c_ks = 0.5 mh_c_kw = 0.5 mh_c_rs = 1.2775810124598492 mh_c_rw = 0.8230972752405258 mh_g_ks = 2 mh_g_kw = 2 mh_g_rs = 16.47 mh_g_rw = 19.93 , \t \tmh_c_ks = 0.5 mh_c_kw = 0.5 mh_c_rs = 1.2775810124598492 mh_c_rw = 0.8230972752405258 mh_g_ks = 2 mh_g_kw = 2 mh_g_rs = 16.47 mh_g_rw = 19.93 , \t \tmh_c_ks = 0.5 mh_c_kw = 0.5 mh_c_rs = 1.2775810124598492 mh_c_rw = 0.8230972752405258 mh_g_ks = 2 mh_g_kw = 2 mh_g_rs = 16.47 mh_g_rw = 19.93 , \t \tmh_c_ks = 0.5 mh_c_kw = 0.5 mh_c_rs = 1.2775810124598492 mh_c_rw = 0.8230972752405258 mh_g_ks = 2 mh_g_kw = 2 mh_g_rs = 16.47 mh_g_rw = 19.93 , \t \tmh_c_ks = 0.5 mh_c_kw = 0.5 mh_c_rs = 1.2775810124598492 mh_c_rw = 0.8230972752405258 mh_g_ks = 2 mh_g_kw = 2 mh_g_rs = 16.47 mh_g_rw = 19.93 , \t \tmh_c_ks = 0.5 mh_c_kw = 0.5 mh_c_rs = 1.2775810124598492 mh_c_rw = 0.8230972752405258 mh_g_ks = 2 mh_g_kw = 2 mh_g_rs = 16.47 mh_g_rw = 19.93 , \t \tmh_c_ks = 0.5 mh_c_kw = 0.5 mh_c_rs = 1.2775810124598492 mh_c_rw = 0.8230972752405258 mh_g_ks = 2 mh_g_kw = 2 mh_g_rs = 16.47 mh_g_rw = 19.93 , \t \tmh_c_ks = 0.5 mh_c_kw = 0.5 mh_c_rs = 1.2775810124598492 mh_c_rw = 0.8230972752405258 mh_g_ks = 2 mh_g_kw = 2 mh_g_rs = 16.47 mh_g_rw = 19.93 , \t \tmh_c_ks = 0.5 mh_c_kw = 0.5 mh_c_rs = 1.2775810124598492 mh_c_rw = 0.8230972752405258 mh_g_ks = 2 mh_g_kw = 2 mh_g_rs = 16.47 mh_g_rw = 19.93 , \t \tmh_c_ks = 0.5 mh_c_kw = 0.5 mh_c_rs = 1.2775810124598492 mh_c_rw = 0.8230972752405258 mh_g_ks = 2 mh_g_kw = 2 mh_g_rs = 16.47 mh_g_rw = 19.93 , \t \tmh_c_ks = 0.5 mh_c_kw = 0.5 mh_c_rs = 1.2775810124598492 mh_c_rw = 0.8230972752405258 mh_g_ks = 2 mh_g_kw = 2 mh_g_rs = 16.47 mh_g_rw = 19.93 , \t \tmh_c_ks = 0.5 mh_c_kw = 0.5 mh_c_rs = 1.2775810124598492 mh_c_rw = 0.8230972752405258 mh_g_ks = 2 mh_g_kw = 2 mh_g_rs = 16.47 mh_g_rw = 19.93 , \t \tmh_c_ks = 0.5 mh_c_kw = 0.5 mh_c_rs = 1.2775810124598492 mh_c_rw = 0.8230972752405258 mh_g_ks = 2 mh_g_kw = 2 mh_g_rs = 16.47 mh_g_rw = 19.93 , \t \tmh_c_ks = 0.5 mh_c_kw = 0.5 mh_c_rs = 1.2775810124598492 mh_c_rw = 0.8230972752405258 mh_g_ks = 2 mh_g_kw = 2 mh_g_rs = 16.47 mh_g_rw = 19.93 , \t \tmh_c_ks = 0.5 mh_c_kw = 0.5 mh_c_rs = 1.2775810124598492 mh_c_rw = 0.8230972752405258 mh_g_ks = 2 mh_g_kw = 2 mh_g_rs = 16.47 mh_g_rw = 19.93 , \t \tmh_c_ks = 0.5 mh_c_kw = 0.5 mh_c_rs = 1.2775810124598492 mh_c_rw = 0.8230972752405258 mh_g_ks = 2 mh_g_kw = 2 mh_g_rs = 16.47 mh_g_rw = 19.93 , \t \tmh_c_ks = 0.5 mh_c_kw = 0.5 mh_c_rs = 1.2775810124598492 mh_c_rw = 0.8230972752405258 mh_g_ks = 2 mh_g_kw = 2 mh_g_rs = 16.47 mh_g_rw = 19.93 , \t \tmh_c_ks = 0.5 mh_c_kw = 0.5 mh_c_rs = 1.2775810124598492 mh_c_rw = 0.8230972752405258 mh_g_ks = 2 mh_g_kw = 2 mh_g_rs = 16.47 mh_g_rw = 19.93 , \t \tmh_c_ks = 0.5 mh_c_kw = 0.5 mh_c_rs = 1.2775810124598492 mh_c_rw = 0.8230972752405258 mh_g_ks = 2 mh_g_kw = 2 mh_g_rs = 16.47 mh_g_rw = 19.93 , \t \tmh_c_ks = 0.5 mh_c_kw = 0.5 mh_c_rs = 1.2775810124598492 mh_c_rw = 0.8230972752405258 mh_g_ks = 2 mh_g_kw = 2 mh_g_rs = 16.47 mh_g_rw = 19.93 , \t \tmh_c_ks = 0.5 mh_c_kw = 0.5 mh_c_rs = 1.2775810124598492 mh_c_rw = 0.8230972752405258 mh_g_ks = 2 mh_g_kw = 2 mh_g_rs = 16.47 mh_g_rw = 19.93 , \t \tmh_c_ks = 0.5 mh_c_kw = 0.5 mh_c_rs = 1.2775810124598492 mh_c_rw = 0.8230972752405258 mh_g_ks = 2 mh_g_kw = 2 mh_g_rs = 16.47 mh_g_rw = 19.93 , \t \tmh_c_ks = 0.5 mh_c_kw = 0.5 mh_c_rs = 1.2775810124598492 mh_c_rw = 0.8230972752405258 mh_g_ks = 2 mh_g_kw = 2 mh_g_rs = 16.47 mh_g_rw = 19.93 , \t \tmh_c_ks = 0.5 mh_c_kw = 0.5 mh_c_rs = 1.2775810124598492 mh_c_rw = 0.8230972752405258 mh_g_ks = 2 mh_g_kw = 2 mh_g_rs = 16.47 mh_g_rw = 19.93 , \t \tmh_c_ks = 0.5 mh_c_kw = 0.5 mh_c_rs = 1.2775810124598492 mh_c_rw = 0.8230972752405258 mh_g_ks = 2 mh_g_kw = 2 mh_g_rs = 16.47 mh_g_rw = 19.93 , \t \tmh_c_ks = 0.5 mh_c_kw = 0.5 mh_c_rs = 1.2775810124598492 mh_c_rw = 0.8230972752405258 mh_g_ks = 2 mh_g_kw = 2 mh_g_rs = 16.47 mh_g_rw = 19.93 , \t \tmh_c_ks = 0.5 mh_c_kw = 0.5 mh_c_rs = 1.2775810124598492 mh_c_rw = 0.8230972752405258 mh_g_ks = 2 mh_g_kw = 2 mh_g_rs = 16.47 mh_g_rw = 19.93 , \t \tmh_c_ks = 0.5 mh_c_kw = 0.5 mh_c_rs = 1.2775810124598492 mh_c_rw = 0.8230972752405258 mh_g_ks = 2 mh_g_kw = 2 mh_g_rs = 16.47 mh_g_rw = 19.93 , \t \tmh_c_ks = 0.5 mh_c_kw = 0.5 mh_c_rs = 1.2775810124598492 mh_c_rw = 0.8230972752405258 mh_g_ks = 2 mh_g_kw = 2 mh_g_rs = 16.47 mh_g_rw = 19.93 , \t \tmh_c_ks = 0.5 mh_c_kw = 0.5 mh_c_rs = 1.2775810124598492 mh_c_rw = 0.8230972752405258 mh_g_ks = 2 mh_g_kw = 2 mh_g_rs = 16.47 mh_g_rw = 19.93 , \t \tmh_c_ks = 0.5 mh_c_kw = 0.5 mh_c_rs = 1.2775810124598492 mh_c_rw = 0.8230972752405258 mh_g_ks = 2 mh_g_kw = "
     ]
    },
    {
     "name": "stdout",
     "output_type": "stream",
     "text": [
      "2 mh_g_rs = 16.47 mh_g_rw = 19.93 , \t \tmh_c_ks = 0.5 mh_c_kw = 0.5 mh_c_rs = 1.2775810124598492 mh_c_rw = 0.8230972752405258 mh_g_ks = 2 mh_g_kw = 2 mh_g_rs = 16.47 mh_g_rw = 19.93 , \t \tmh_c_ks = 0.5 mh_c_kw = 0.5 mh_c_rs = 1.2775810124598492 mh_c_rw = 0.8230972752405258 mh_g_ks = 2 mh_g_kw = 2 mh_g_rs = 16.47 mh_g_rw = 19.93 , \t \tmh_c_ks = 0.5 mh_c_kw = 0.5 mh_c_rs = 1.2775810124598492 mh_c_rw = 0.8230972752405258 mh_g_ks = 2 mh_g_kw = 2 mh_g_rs = 16.47 mh_g_rw = 19.93 , \t \tmh_c_ks = 0.5 mh_c_kw = 0.5 mh_c_rs = 1.2775810124598492 mh_c_rw = 0.8230972752405258 mh_g_ks = 2 mh_g_kw = 2 mh_g_rs = 16.47 mh_g_rw = 19.93 , \t \tmh_c_ks = 0.5 mh_c_kw = 0.5 mh_c_rs = 1.2775810124598492 mh_c_rw = 0.8230972752405258 mh_g_ks = 2 mh_g_kw = 2 mh_g_rs = 16.47 mh_g_rw = 19.93 , \t \tmh_c_ks = 0.5 mh_c_kw = 0.5 mh_c_rs = 1.2775810124598492 mh_c_rw = 0.8230972752405258 mh_g_ks = 2 mh_g_kw = 2 mh_g_rs = 16.47 mh_g_rw = 19.93 , \t \tmh_c_ks = 0.5 mh_c_kw = 0.5 mh_c_rs = 1.2775810124598492 mh_c_rw = 0.8230972752405258 mh_g_ks = 2 mh_g_kw = 2 mh_g_rs = 16.47 mh_g_rw = 19.93 , \t \tmh_c_ks = 0.5 mh_c_kw = 0.5 mh_c_rs = 1.2775810124598492 mh_c_rw = 0.8230972752405258 mh_g_ks = 2 mh_g_kw = 2 mh_g_rs = 16.47 mh_g_rw = 19.93 , \t \tmh_c_ks = 0.5 mh_c_kw = 0.5 mh_c_rs = 1.2775810124598492 mh_c_rw = 0.8230972752405258 mh_g_ks = 2 mh_g_kw = 2 mh_g_rs = 16.47 mh_g_rw = 19.93 , \t \tmh_c_ks = 0.5 mh_c_kw = 0.5 mh_c_rs = 1.2775810124598492 mh_c_rw = 0.8230972752405258 mh_g_ks = 2 mh_g_kw = 2 mh_g_rs = 16.47 mh_g_rw = 19.93 , \t \tmh_c_ks = 0.5 mh_c_kw = 0.5 mh_c_rs = 1.2775810124598492 mh_c_rw = 0.8230972752405258 mh_g_ks = 2 mh_g_kw = 2 mh_g_rs = 16.47 mh_g_rw = 19.93 , \t \tmh_c_ks = 0.5 mh_c_kw = 0.5 mh_c_rs = 1.2775810124598492 mh_c_rw = 0.8230972752405258 mh_g_ks = 2 mh_g_kw = 2 mh_g_rs = 16.47 mh_g_rw = 19.93 , \t \tmh_c_ks = 0.5 mh_c_kw = 0.5 mh_c_rs = 1.2775810124598492 mh_c_rw = 0.8230972752405258 mh_g_ks = 2 mh_g_kw = 2 mh_g_rs = 16.47 mh_g_rw = 19.93 , \t \tmh_c_ks = 0.5 mh_c_kw = 0.5 mh_c_rs = 1.2775810124598492 mh_c_rw = 0.8230972752405258 mh_g_ks = 2 mh_g_kw = 2 mh_g_rs = 16.47 mh_g_rw = 19.93 , \t \tmh_c_ks = 0.5 mh_c_kw = 0.5 mh_c_rs = 1.2775810124598492 mh_c_rw = 0.8230972752405258 mh_g_ks = 2 mh_g_kw = 2 mh_g_rs = 16.47 mh_g_rw = 19.93 , \t \tmh_c_ks = 0.5 mh_c_kw = 0.5 mh_c_rs = 1.2775810124598492 mh_c_rw = 0.8230972752405258 mh_g_ks = 2 mh_g_kw = 2 mh_g_rs = 16.47 mh_g_rw = 19.93 , \t \tmh_c_ks = 0.5 mh_c_kw = 0.5 mh_c_rs = 1.2775810124598492 mh_c_rw = 0.8230972752405258 mh_g_ks = 2 mh_g_kw = 2 mh_g_rs = 16.47 mh_g_rw = 19.93 , \t \tmh_c_ks = 0.5 mh_c_kw = 0.5 mh_c_rs = 1.2775810124598492 mh_c_rw = 0.8230972752405258 mh_g_ks = 2 mh_g_kw = 2 mh_g_rs = 16.47 mh_g_rw = 19.93 , \t \tmh_c_ks = 0.5 mh_c_kw = 0.5 mh_c_rs = 1.2775810124598492 mh_c_rw = 0.8230972752405258 mh_g_ks = 2 mh_g_kw = 2 mh_g_rs = 16.47 mh_g_rw = 19.93 , \t \tmh_c_ks = 0.5 mh_c_kw = 0.5 mh_c_rs = 1.2775810124598492 mh_c_rw = 0.8230972752405258 mh_g_ks = 2 mh_g_kw = 2 mh_g_rs = 16.47 mh_g_rw = 19.93 , \t \tmh_c_ks = 0.5 mh_c_kw = 0.5 mh_c_rs = 1.2775810124598492 mh_c_rw = 0.8230972752405258 mh_g_ks = 2 mh_g_kw = 2 mh_g_rs = 16.47 mh_g_rw = 19.93 , \t \tmh_c_ks = 0.5 mh_c_kw = 0.5 mh_c_rs = 1.2775810124598492 mh_c_rw = 0.8230972752405258 mh_g_ks = 2 mh_g_kw = 2 mh_g_rs = 16.47 mh_g_rw = 19.93 , \t \tmh_c_ks = 0.5 mh_c_kw = 0.5 mh_c_rs = 1.2775810124598492 mh_c_rw = 0.8230972752405258 mh_g_ks = 2 mh_g_kw = 2 mh_g_rs = 16.47 mh_g_rw = 19.93 , \t \tmh_c_ks = 0.5 mh_c_kw = 0.5 mh_c_rs = 1.2775810124598492 mh_c_rw = 0.8230972752405258 mh_g_ks = 2 mh_g_kw = 2 mh_g_rs = 16.47 mh_g_rw = 19.93 , \t \tmh_c_ks = 0.5 mh_c_kw = 0.5 mh_c_rs = 1.2775810124598492 mh_c_rw = 0.8230972752405258 mh_g_ks = 2 mh_g_kw = 2 mh_g_rs = 16.47 mh_g_rw = 19.93 , \t \tmh_c_ks = 0.5 mh_c_kw = 0.5 mh_c_rs = 1.2775810124598492 mh_c_rw = 0.8230972752405258 mh_g_ks = 2 mh_g_kw = 2 mh_g_rs = 16.47 mh_g_rw = 19.93 , \t \tmh_c_ks = 0.5 mh_c_kw = 0.5 mh_c_rs = 1.2775810124598492 mh_c_rw = 0.8230972752405258 mh_g_ks = 2 mh_g_kw = 2 mh_g_rs = 16.47 mh_g_rw = 19.93 , \t \tmh_c_ks = 0.5 mh_c_kw = 0.5 mh_c_rs = 1.2775810124598492 mh_c_rw = 0.8230972752405258 mh_g_ks = 2 mh_g_kw = 2 mh_g_rs = 16.47 mh_g_rw = 19.93 , \t \tmh_c_ks = 0.5 mh_c_kw = 0.5 mh_c_rs = 1.2775810124598492 mh_c_rw = 0.8230972752405258 mh_g_ks = 2 mh_g_kw = 2 mh_g_rs = 16.47 mh_g_rw = 19.93 , \t \tmh_c_ks = 0.5 mh_c_kw = 0.5 mh_c_rs = 1.2775810124598492 mh_c_rw = 0.8230972752405258 mh_g_ks = 2 mh_g_kw = 2 mh_g_rs = 16.47 mh_g_rw = 19.93 , \t \tmh_c_ks = 0.5 mh_c_kw = 0.5 mh_c_rs = 1.2775810124598492 mh_c_rw = 0.8230972752405258 mh_g_ks = 2 mh_g_kw = 2 mh_g_rs = 16.47 mh_g_rw = 19.93 , \t \tmh_c_ks = 0.5 mh_c_kw = 0.5 mh_c_rs = 1.2775810124598492 mh_c_rw = 0.8230972752405258 mh_g_ks = 2 mh_g_kw = 2 mh_g_rs = 16.47 mh_g_rw = 19.93 , \t \tmh_c_ks = 0.5 mh_c_kw = 0.5 mh_c_rs = 1.2775810124598492 mh_c_rw = 0.8230972752405258 mh_g_ks = 2 mh_g_kw = 2 mh_g_rs = 16.47 mh_g_rw = 19.93 , \t \tmh_c_ks = 0.5 mh_c_kw = 0.5 mh_c_rs = 1.2775810124598492 mh_c_rw = 0.8230972752405258 mh_g_ks = 2 mh_g_kw = 2 mh_g_rs = 16.47 mh_g_rw = 19.93 , \t \tmh_c_ks = 0.5 mh_c_kw = 0.5 mh_c_rs = 1.2775810124598492 mh_c_rw = 0.8230972752405258 mh_g_ks = 2 mh_g_kw = 2 mh_g_rs = 16.47 mh_g_rw = 19.93 , \t \tmh_c_ks = 0.5 mh_c_kw = 0.5 mh_c_rs = 1.2775810124598492 mh_c_rw = 0.8230972752405258 mh_g_ks = 2 mh_g_kw = 2 mh_g_rs = 16.47 mh_g_rw = 19.93 , \t \tmh_c_ks = 0.5 mh_c_kw = 0.5 mh_c_rs = 1.2775810124598492 mh_c_rw = 0.8230972752405258 mh_g_ks = 2 mh_g_kw = 2 mh_g_rs = 16.47 mh_g_rw = 19.93 , \t \tmh_c_ks = 0.5 mh_c_kw = 0.5 mh_c_rs = 1.2775810124598492 mh_c_rw = 0.8230972752405258 mh_g_ks = 2 mh_g_kw = 2 mh_g_rs = 16.47 mh_g_rw = 19.93 , \t \tmh_c_ks = 0.5 mh_c_kw = 0.5 mh_c_rs = 1.2775810124598492 mh_c_rw = 0.8230972752405258 mh_g_ks = 2 mh_g_kw = 2 mh_g_rs = 16.47 mh_g_rw = 19.93 , \t \tmh_c_ks = 0.5 mh_c_kw = 0.5 mh_c_rs = 1.2775810124598492 mh_c_rw = 0.8230972752405258 mh_g_ks = 2 mh_g_kw = 2 mh_g_rs = 16.47 mh_g_rw = 19.93 , \t \tmh_c_ks = 0.5 mh_c_kw = 0.5 mh_c_rs = 1.2775810124598492 mh_c_rw = 0.8230972752405258 mh_g_ks = 2 mh_g_kw = 2 mh_g_rs = 16.47 mh_g_rw = 19.93 , \t \tmh_c_ks = 0.5 mh_c_kw = 0.5 mh_c_rs = 1.2775810124598492 mh_c_rw = 0.8230972752405258 mh_g_ks = 2 mh_g_kw = 2 mh_g_rs = 16.47 mh_g_rw = 19.93 , \t \tmh_c_ks = 0.5 mh_c_kw = 0.5 mh_c_rs = 1.2775810124598492 mh_c_rw = 0.8230972752405258 mh_g_ks = 2 mh_g_kw = 2 mh_g_rs = 16.47 mh_g_rw = 19.93 , \t \tmh_c_ks = 0.5 mh_c_kw = 0.5 mh_c_rs = 1.2775810124598492 mh_c_rw = 0.8230972752405258 mh_g_ks = 2 mh_g_kw = 2 mh_g_rs = 16.47 mh_g_rw = 19.93 , \t \tmh_c_ks = 0.5 mh_c_kw = 0.5 mh_c_rs = 1.2775810124598492 mh_c_rw = 0.8230972752405258 mh_g_ks = 2 mh_g_kw = 2 mh_g_rs = 16.47 mh_g_rw = 19.93 , \t \tmh_c_ks = 0.5 mh_c_kw = 0.5 mh_c_rs = 1.2775810124598492 mh_c_rw = 0.8230972752405258 mh_g_ks = 2 mh_g_kw = 2 mh_g_rs = 16.47 mh_g_rw = 19.93 , \t \tmh_c_ks = 0.5 mh_c_kw = 0.5 mh_c_rs = 1.2775810124598492 mh_c_rw = 0.8230972752405258 mh_g_ks = 2 mh_g_kw = 2 mh_g_rs = 16.47 mh_g_rw = 19.93 , \t \tmh_c_ks = 0.5 mh_c_kw = 0.5 mh_c_rs = 1.2775810124598492 mh_c_rw = 0.8230972752405258 mh_g_ks = 2 mh_g_kw = 2 mh_g_rs = 16.47 mh_g_rw = 19.93 , \t \tmh_c_ks = 0.5 mh_c_kw = 0.5 mh_c_rs = 1.2775810124598492 mh_c_rw = 0.8230972752405258 mh_g_ks = 2 mh_g_kw = 2 mh_g_rs = 16.47 mh_g_rw = 19.93 , \t \tmh_c_ks = 0.5 mh_c_kw = 0.5 mh_c_rs = 1.2775810124598492 mh_c_rw = 0.8230972752405258 mh_g_ks = 2 mh_g_kw = 2 mh_g_rs = 16.47 mh_g_rw = 19.93 , \t \tmh_c_ks = 0.5 mh_c_kw = 0.5 mh_c_rs = 1.2775810124598492 mh_c_rw = 0.8230972752405258 mh_g_ks = 2 mh_g_kw = 2 mh_g_rs = 16.47 mh_g_rw = 19.93 , \t \tmh_c_ks = 0.5 mh_c_kw = 0.5 mh_c_rs = 1.2775810124598492 mh_c_rw = 0.8230972752405258 mh_g_ks = 2 mh_g_kw = 2 mh_g_rs = 16.47 mh_g_rw = 19.93 , \t \tmh_c_ks = 0.5 mh_c_kw = 0.5 mh_c_rs = 1.2775810124598492 mh_c_rw = 0.8230972752405258 mh_g_ks = 2 mh_g_kw = 2 mh_g_rs = 16.47 mh_g_rw = 19.93 , \t \tmh_c_ks = 0.5 mh_c_kw = 0.5 mh_c_rs = 1.2775810124598492 mh_c_rw = 0.8230972752405258 mh_g_ks = 2 mh_g_kw = 2 mh_g_rs = 16.47 mh_g_rw = 19.93 , \t \tmh_c_ks = 0.5 mh_c_kw = 0.5 mh_c_rs = 1.2775810124598492 mh_c_rw = 0.8230972752405258 mh_g_ks = 2 mh_g_kw = 2 mh_g_rs = 16.47 mh_g_rw = 19.93 , \t \tmh_c_ks = 0.5 mh_c_kw = 0.5 mh_c_rs = 1.2775810124598492 mh_c_rw = 0.8230972752405258 mh_g_ks = 2 mh_g_kw = 2 mh_g_rs = 16.47 mh_g_rw = 19.93 , \t \tmh_c_ks = 0.5 mh_c_kw = 0.5 mh_c_rs = 1.2775810124598492 mh_c_rw = 0.8230972752405258 mh_g_ks = 2 mh_g_kw = 2 mh_g_rs = 16.47 mh_g_rw = 19.93 , \t \tmh_c_ks = 0.5 mh_c_kw = 0.5 mh_c_rs = 1.2775810124598492 mh_c_rw = 0.8230972752405258 mh_g_ks = 2 mh_g_kw = 2 mh_g_rs = 16.47 mh_g_rw = 19.93 , \t \tmh_c_ks = 0.5 mh_c_kw = 0.5 mh_c_rs = 1.2775810124598492 mh_c_rw = 0.8230972752405258 mh_g_ks = 2 mh_g_kw = 2 mh_g_rs = 16.47 mh_g_rw = 19.93 , \t \tmh_c_ks = 0.5 mh_c_kw = 0.5 mh_c_rs = 1.2775810124598492 mh_c_rw = 0.8230972752405258 mh_g_ks = 2 mh_g_kw = 2 mh_g_rs = 16.47 mh_g_rw = 19.93 , \t \tmh_c_ks = 0.5 mh_c_kw = 0.5 mh_c_rs = 1.2775810124598492 mh_c_rw = 0.8230972752405258 mh_g_ks = 2 mh_g_kw = 2 mh_g_rs = 16.47 mh_g_rw = 19.93 , \t \tmh_c_ks = 0.5 mh_c_kw = 0.5 mh_c_rs = 1.2775810124598492 mh_c_rw = 0.8230972752405258 mh_g_ks = 2 mh_g_kw = 2 mh_g_rs = 16.47 mh_g_rw = 19.93 , \t \tmh_c_ks = 0.5 mh_c_kw = 0.5 mh_c_rs = 1.2775810124598492 mh_c_rw = 0.8230972752405258 mh_g_ks = 2 mh_g_kw = 2 mh_g_rs = 16.47 mh_g_rw = 19.93 , \t \tmh_c_ks = 0.5 mh_c_kw = 0.5 mh_c_rs = 1.2775810124598492 mh_c_rw = 0.8230972752405258 mh_g_ks = 2 mh_g_kw = 2 mh_g_rs = 16.47 mh_g_rw = 19.93 , \t \tmh_c_ks = 0.5 mh_c_kw = 0.5 mh_c_rs = 1.2775810124598492 mh_c_rw = 0.8230972752405258 mh_g_ks = 2 mh_g_kw = 2 mh_g_rs = 16.47 mh_g_rw = 19.93 , \t \tmh_c_ks = 0.5 mh_c_kw = 0.5 mh_c_rs = 1.2775810124598492 mh_c_rw = 0.8230972752405258 mh_g_ks = 2 mh_g_kw = 2 mh_g_rs = 16.47 mh_g_rw = 19.93 , \t \tmh_c_ks = 0.5 mh_c_kw = 0.5 mh_c_rs = 1.2775810124598492 mh_c_rw = 0.8230972752405258 mh_g_ks = 2 mh_g_kw = 2 mh_g_rs = 16.47 mh_g_rw = 19.93 , \tti\n",
      " \tti_a = 0 ti_b = 0.0045 \n",
      " \tti_a = 0 ti_b = 0.0045 \n"
     ]
    },
    {
     "name": "stdout",
     "output_type": "stream",
     "text": [
      " \tti_a = 0 ti_b = 0.0045 \n",
      " \tti_a = 0 ti_b = 0.0045 \n",
      " \tti_a = 0 ti_b = 0.0045 \n",
      " \tti_a = 0 ti_b = 0.0045 \n",
      " \tti_a = 0 ti_b = 0.0045 \n",
      " \tti_a = 0 ti_b = 0.0045 \n",
      " \tti_a = 0 ti_b = 0.0045 \n",
      " \tti_a = 0 ti_b = 0.0045 \n",
      " \tti_a = 0 ti_b = 0.0045 \n",
      " \tti_a = 0 ti_b = 0.0045 \n",
      " \tti_a = 0 ti_b = 0.0045 \n",
      " \tti_a = 0 ti_b = 0.0045 \n",
      " \tti_a = 0 ti_b = 0.0045 \n",
      " \tti_a = 0 ti_b = 0.0045 \n",
      " \tti_a = 0 ti_b = 0.0045 \n",
      " \tti_a = 0 ti_b = 0.0045 \n",
      " \tti_a = 0 ti_b = 0.0045 \n",
      " \tti_a = 0 ti_b = 0.0045 \n",
      " \tti_a = 0 ti_b = 0.0045 \n",
      " \tti_a = 0 ti_b = 0.0045 \n",
      " \tti_a = 0 ti_b = 0.0045 \n",
      " \tti_a = 0 ti_b = 0.0045 \n",
      "tm\n"
     ]
    }
   ],
   "source": [
    "print(run_name)\n",
    "data_name = run_file.split('.meta')[0] + '.data.json'\n",
    "\n",
    "with open(data_name, 'r') as file:\n",
    "    data = json.load(file)\n",
    "    \n",
    "for key in data.keys():\n",
    "    print(key, end=\", \")\n",
    "    \n",
    "print()\n",
    "print()\n",
    "print_constants(data['constants'])"
   ]
  },
  {
   "cell_type": "code",
   "execution_count": null,
   "metadata": {},
   "outputs": [],
   "source": [
    "key = \"axial_force\"\n",
    "fs = 16\n",
    "\n",
    "# recreate time trace in milliseconds\n",
    "time_trace = data['timestep'].copy()\n",
    "for i in range(len(time_trace)):\n",
    "    time_trace[i] *= data['timestep_length']\n",
    "\n",
    "# plot\n",
    "fig, axes = plt.subplots(figsize=(16, 9))\n",
    "axes.plot(time_trace, data[key])\n",
    "\n",
    "plt.title(\"multifilament model\\nof muscle contraction\", fontsize=fs*1.5)\n",
    "plt.xlabel(\"time (ms)\", fontsize=fs)\n",
    "plt.ylabel(key, fontsize=fs)\n",
    "\n",
    "ax2 = plt.twinx()\n",
    "ax2.plot(time_trace, data['actin_permissiveness'])\n",
    "\n",
    "save = True # OI! make sure you know whats going on here in this statement\n",
    "if save:\n",
    "    plt.savefig(output_dir + str(run_name) + \"png\")"
   ]
  },
  {
   "cell_type": "code",
   "execution_count": null,
   "metadata": {},
   "outputs": [],
   "source": [
    "new_sarc = multifil.hs.hs(ti_a=89)"
   ]
  }
 ],
 "metadata": {
  "kernelspec": {
   "display_name": "Python 3",
   "language": "python",
   "name": "python3"
  },
  "language_info": {
   "codemirror_mode": {
    "name": "ipython",
    "version": 3
   },
   "file_extension": ".py",
   "mimetype": "text/x-python",
   "name": "python",
   "nbconvert_exporter": "python",
   "pygments_lexer": "ipython3",
   "version": "3.7.3"
  }
 },
 "nbformat": 4,
 "nbformat_minor": 2
}
