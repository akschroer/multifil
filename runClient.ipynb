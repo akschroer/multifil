{
 "cells": [
  {
   "cell_type": "code",
   "execution_count": null,
   "metadata": {},
   "outputs": [],
   "source": [
    "import json as json\n",
    "import matplotlib.pyplot as plt\n",
    "import os\n",
    "import numpy as np\n",
    "\n",
    "import multifil\n",
    "import treatment_definitions as td\n",
    "import graphing_utilities as gutil\n",
    "\n",
    "# List valid things that can be changed\n",
    "print(\"valid constant (phenotype) parameters\\n\", multifil.hs.hs.VALID_PARAMS)"
   ]
  },
  {
   "cell_type": "code",
   "execution_count": null,
   "metadata": {},
   "outputs": [],
   "source": [
    "# Setup experiment, show the traces\n",
    "time_trace, length_trace, actin_permissiveness_trace, params = td.stiff_torsional_spring()\n",
    "\n",
    "#plot the traces\n",
    "gutil.plot_input_traces(time_trace, length_trace, actin_permissiveness_trace)\n",
    "\n",
    "#print the phenotype settings\n"
   ]
  },
  {
   "cell_type": "code",
   "execution_count": null,
   "metadata": {
    "scrolled": false
   },
   "outputs": [],
   "source": [
    "\"\"\"This code runs a single simulation\"\"\"\n",
    "output_dir = \"../_originalTransitionRates/\"\n",
    "\n",
    "stiffness = 40 # torsional spring\n",
    "params = {\"mh_c_ks\":stiffness, \"mh_c_kw\":stiffness, \"detachment_rate\":\"force_dependent\"}\n",
    "\n",
    "# check the comment to see what we are passing to it.\n",
    "wl_meta = multifil.aws.metas.emit(output_dir, # local dir to save run output to\n",
    "                                  None, #s3 bucket to upload results to\n",
    "                                  time_trace, \n",
    "                                  0.5, # poisson ratio, set to const vol here\n",
    "                                 None, # intial ls, using default by passing none\n",
    "                                 length_trace, \n",
    "                                 actin_permissiveness_trace, \n",
    "                                 str(stiffness), # comment describing run\n",
    "                                 True, # whether to write out resulting file \n",
    "                                  #or just pass back to variable\n",
    "                                 params)\n",
    "run_name = wl_meta['name']\n",
    "print(run_name)\n",
    "run_file = output_dir + run_name + \".meta.json\"\n",
    "\n",
    "for key in wl_meta.keys():\n",
    "    print(key)\n",
    "\n",
    "print(wl_meta['hs_params'])\n",
    "\n",
    "run_manager = multifil.aws.run.manage(run_file, False) # have run.py create the sarc from meta\n",
    "# Begin running\n",
    "run_manager.run_and_save()   # with our new sarc, run it\n",
    "\n",
    "print(run_name)\n",
    "data_name = run_file.split('.meta')[0] + '.data.json'\n",
    "\n",
    "with open(data_name, 'r') as file:\n",
    "    data = json.load(file)\n",
    "\n",
    "for key in data.keys():\n",
    "    print(key, end=\", \")\n",
    "\n",
    "print()\n",
    "print()\n",
    "# print_constants(data['constants'])\n",
    "\n",
    "key = \"axial_force\"\n",
    "fs = 16\n",
    "\n",
    "# recreate time trace in milliseconds\n",
    "time_trace = data['timestep'].copy()\n",
    "for i in range(len(time_trace)):\n",
    "    time_trace[i] *= data['timestep_length']\n",
    "\n",
    "# plot\n",
    "fig, axes = plt.subplots(figsize=(16, 9))\n",
    "axes.plot(time_trace, data[key])\n",
    "\n",
    "title = \"multifilament model of muscle contraction\\n\" + wl_meta['comment']\n",
    "plt.title(title, fontsize=fs*1.5)\n",
    "plt.xlabel(\"time (ms)\", fontsize=fs)\n",
    "plt.ylabel(key, fontsize=fs)\n",
    "\n",
    "ax2 = plt.twinx()\n",
    "ax2.plot(time_trace, data['actin_permissiveness'])\n",
    "\n",
    "save = True # OI! make sure you know whats going on here in this statement\n",
    "if save:\n",
    "    plt.savefig(output_dir + str(run_name) + \".png\")"
   ]
  },
  {
   "cell_type": "code",
   "execution_count": null,
   "metadata": {
    "scrolled": false
   },
   "outputs": [],
   "source": [
    "plt.plot(data['xb_trans_31'])"
   ]
  },
  {
   "cell_type": "code",
   "execution_count": null,
   "metadata": {},
   "outputs": [],
   "source": []
  }
 ],
 "metadata": {
  "kernelspec": {
   "display_name": "Python 3",
   "language": "python",
   "name": "python3"
  },
  "language_info": {
   "codemirror_mode": {
    "name": "ipython",
    "version": 3
   },
   "file_extension": ".py",
   "mimetype": "text/x-python",
   "name": "python",
   "nbconvert_exporter": "python",
   "pygments_lexer": "ipython3",
   "version": "3.7.3"
  }
 },
 "nbformat": 4,
 "nbformat_minor": 2
}
