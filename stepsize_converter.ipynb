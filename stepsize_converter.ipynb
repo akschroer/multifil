{
 "cells": [
  {
   "cell_type": "code",
   "execution_count": 15,
   "metadata": {},
   "outputs": [],
   "source": [
    "import numpy as np\n",
    "from numpy import radians, degrees"
   ]
  },
  {
   "cell_type": "code",
   "execution_count": 16,
   "metadata": {},
   "outputs": [],
   "source": [
    "c_rest_weak = radians(47.16)\n",
    "g_rest_weak = 19.93\n",
    "    \n",
    "c_rest_strong = radians(73.20)\n",
    "g_rest_strong = 16.47\n",
    "    \n",
    "delta_x_weak = g_rest_weak * np.sin(np.pi / 2 - c_rest_weak)\n",
    "delta_x_strong = g_rest_strong * np.sin(np.pi / 2 - c_rest_strong)"
   ]
  },
  {
   "cell_type": "code",
   "execution_count": 17,
   "metadata": {},
   "outputs": [],
   "source": [
    "def stepsize_to_tht_mag(step_size):\n",
    "    c_rest_weak = radians(47.16)\n",
    "    g_rest_weak = 19.93\n",
    "    weak_ls = g_rest_weak * np.sin(c_rest_weak)\n",
    "\n",
    "    c_rest_strong = radians(73.20)\n",
    "    g_rest_strong = 16.47\n",
    "    strong_ls = g_rest_strong * np.sin(c_rest_strong)\n",
    "\n",
    "    delta_x_weak = g_rest_weak * np.sin(np.pi / 2 - c_rest_weak)\n",
    "    delta_x_strong = g_rest_strong * np.sin(np.pi / 2 - c_rest_strong)\n",
    "    \n",
    "    # Begin calculations\n",
    "    needed = delta_x_weak - step_size  # What delta_x do we need \n",
    "\n",
    "    # tan (theta) = needed / strong_ls\n",
    "    tht = np.arctan(needed / strong_ls)\n",
    "\n",
    "    tht = np.pi / 2 - tht  # change to mh_converter angle\n",
    "    mag = np.sqrt(needed * needed + strong_ls * strong_ls)\n",
    "    return tht, mag"
   ]
  },
  {
   "cell_type": "code",
   "execution_count": 18,
   "metadata": {},
   "outputs": [
    {
     "name": "stdout",
     "output_type": "stream",
     "text": [
      "1.2775810124598492 1.2775810124598492\n",
      "16.47 16.47\n"
     ]
    }
   ],
   "source": [
    "step_size = delta_x_weak - delta_x_strong\n",
    "\n",
    "tht, mag = stepsize_to_tht_mag(step_size)\n",
    "print(radians(73.20), tht)\n",
    "print(16.47, mag)"
   ]
  },
  {
   "cell_type": "code",
   "execution_count": 23,
   "metadata": {},
   "outputs": [
    {
     "name": "stdout",
     "output_type": "stream",
     "text": [
      "5 :\t 1.0738351050189006 \t 17.93676632462412\n",
      "6 :\t 1.124138273362594 \t 17.482123569758173\n",
      "7 :\t 1.176985602463311 \t 17.07400664262547\n",
      "8 :\t 1.2322580160749015 \t 16.71582367568356\n",
      "9 :\t 1.2897664048880846 \t 16.4108445693897\n",
      "10 :\t 1.3492474235821321 \t 16.162081481195166\n",
      "11 :\t 1.4103641275454815 \t 15.972161285465287\n",
      "12 :\t 1.4727125278180038 \t 15.843200259197651\n",
      "13 :\t 1.5358344251456837 \t 15.776693341038383\n"
     ]
    }
   ],
   "source": [
    "# \\t is tab - note the direction of the back slash\n",
    "\n",
    "for step_size in [5, 6, 7, 8, 9, 10, 11, 12, 13]:\n",
    "    tht, mag = stepsize_to_tht_mag(step_size)\n",
    "    print(step_size, \":\\t\", tht, \"\\t\", mag)"
   ]
  },
  {
   "cell_type": "code",
   "execution_count": null,
   "metadata": {},
   "outputs": [],
   "source": []
  }
 ],
 "metadata": {
  "kernelspec": {
   "display_name": "Python 3",
   "language": "python",
   "name": "python3"
  },
  "language_info": {
   "codemirror_mode": {
    "name": "ipython",
    "version": 3
   },
   "file_extension": ".py",
   "mimetype": "text/x-python",
   "name": "python",
   "nbconvert_exporter": "python",
   "pygments_lexer": "ipython3",
   "version": "3.7.3"
  }
 },
 "nbformat": 4,
 "nbformat_minor": 2
}
