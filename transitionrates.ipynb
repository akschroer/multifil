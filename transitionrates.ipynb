{
 "cells": [
  {
   "cell_type": "code",
   "execution_count": 1,
   "metadata": {},
   "outputs": [],
   "source": [
    "def _r31(bs):\n",
    "    \"\"\"Probability of unbinding if tightly bound\n",
    "\n",
    "    Takes:\n",
    "        bs: relative Crown to Actin distance (x,y)\n",
    "    Returns:\n",
    "        rate: probability of detaching from the binding site\n",
    "    \"\"\"\n",
    "    # # ## Get needed values\n",
    "    k_xb = 5 / 3.976\n",
    "    M = 3600  # From Tanner, 2008 Pg 1209\n",
    "    N = 40\n",
    "    P = 20\n",
    "    # # ## Based on the energy in the tight state\n",
    "    rate = (math.sqrt(k_xb) * (math.sqrt(M * (bs - 4.76) ** 2) -\n",
    "                          N * (bs - 4.76)) + P) * 0.5\n",
    "    \n",
    "    return rate"
   ]
  },
  {
   "cell_type": "code",
   "execution_count": 2,
   "metadata": {},
   "outputs": [],
   "source": [
    "import matplotlib.pyplot as plt\n",
    "import math"
   ]
  },
  {
   "cell_type": "code",
   "execution_count": 3,
   "metadata": {},
   "outputs": [],
   "source": [
    "rates = []\n",
    "displacements = list(range(-5, 15))\n",
    "for i in displacements:\n",
    "    rates.append(_r31(i + 4.76))"
   ]
  },
  {
   "cell_type": "code",
   "execution_count": 4,
   "metadata": {},
   "outputs": [
    {
     "data": {
      "text/plain": [
       "Text(0.5, 0, 'x axis')"
      ]
     },
     "execution_count": 4,
     "metadata": {},
     "output_type": "execute_result"
    },
    {
     "data": {
      "image/png": "[encoded data removed]",
      "text/plain": [
       "<Figure size 432x288 with 1 Axes>"
      ]
     },
     "metadata": {
      "needs_background": "light"
     },
     "output_type": "display_data"
    }
   ],
   "source": [
    "plt.plot(displacements, rates)\n",
    "plt.xlabel(\"x axis\")"
   ]
  },
  {
   "cell_type": "code",
   "execution_count": null,
   "metadata": {},
   "outputs": [],
   "source": []
  }
 ],
 "metadata": {
  "kernelspec": {
   "display_name": "Python 3",
   "language": "python",
   "name": "python3"
  },
  "language_info": {
   "codemirror_mode": {
    "name": "ipython",
    "version": 3
   },
   "file_extension": ".py",
   "mimetype": "text/x-python",
   "name": "python",
   "nbconvert_exporter": "python",
   "pygments_lexer": "ipython3",
   "version": "3.7.3"
  }
 },
 "nbformat": 4,
 "nbformat_minor": 2
}
