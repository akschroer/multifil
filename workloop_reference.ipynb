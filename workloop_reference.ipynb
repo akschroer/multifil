{
 "cells": [
  {
   "cell_type": "markdown",
   "metadata": {},
   "source": [
    "# How to run workloop experiments using the multifilament model with titin\n",
    "\n",
    "First we need to check out/download the model's repo from github and switch over to the titin branch"
   ]
  },
  {
   "cell_type": "markdown",
   "metadata": {},
   "source": [
    "We executed the following:\n",
    "```\n",
    "git clone https://github.com/cdw/multifil.git;\n",
    "cd multifil;\n",
    "git checkout titin\n",
    "```"
   ]
  },
  {
   "cell_type": "code",
   "execution_count": null,
   "metadata": {},
   "outputs": [],
   "source": [
    "#Check that we are up to date\n",
    "%cd ../../multifil/\n",
    "!git pull\n",
    "!git status\n",
    "\n",
    "# Normally I'd encourage installation directly, but we want to override \n",
    "# my existing installation of multifil so we need to ensure it is sourced first\n",
    "import sys\n",
    "sys.path.insert(0, 'multifil/')\n",
    "import multifil\n",
    "import multifil.aws.metas\n",
    "\n",
    "%cd ../clientMultifil/"
   ]
  },
  {
   "cell_type": "code",
   "execution_count": null,
   "metadata": {},
   "outputs": [],
   "source": [
    "#rest of imports \n",
    "import ujson as json\n",
    "import matplotlib.pyplot as plt"
   ]
  },
  {
   "cell_type": "markdown",
   "metadata": {},
   "source": [
    "Now we've got the multifil model loaded, working on the titin branch. Let's instantiate a half-sarcomere and run it to genereate some forces. "
   ]
  },
  {
   "cell_type": "code",
   "execution_count": null,
   "metadata": {},
   "outputs": [],
   "source": [
    "hs = multifil.hs.hs()\n",
    "forces = hs.run(10)"
   ]
  },
  {
   "cell_type": "markdown",
   "metadata": {},
   "source": [
    "And plot them"
   ]
  },
  {
   "cell_type": "code",
   "execution_count": null,
   "metadata": {},
   "outputs": [],
   "source": [
    "fig, ax = plt.subplots(1,1)\n",
    "ax.plot(forces)\n",
    "ax.set(xlabel=\"Timestep (ms)\", ylabel=\"Force (pN)\")\n",
    "plt.tight_layout()"
   ]
  },
  {
   "cell_type": "markdown",
   "metadata": {},
   "source": [
    "That is a simple (very short) run at maximal activation with default lattice spacing and length. Good for some things, but we want to run workloops. \n",
    "\n",
    "The file `multifil.aws.metas` contains various functions intended to generate run files (metas) for different runs. These meta files need traces for lenght and activation if we don't want them to be constant (lattice spacing is currently set by setting poission ratio). Let's look at the traces we need to create for a workloop run:"
   ]
  },
  {
   "cell_type": "code",
   "execution_count": null,
   "metadata": {},
   "outputs": [],
   "source": [
    "time_trace = multifil.aws.metas.time(\n",
    "    .5, # ms per timestep\n",
    "    200, # ms to run for\n",
    "                                    )\n",
    "length_trace = multifil.aws.metas.zline_workloop(\n",
    "    1200, # resting hs length \n",
    "    10, # peak to peak amp \n",
    "    25, # cycle freq in Hz \n",
    "    time_trace\n",
    "                                                )\n",
    "\n",
    "'''init params freq=25, phase=0.1, stim_duration=20, influx_time=2, half_life=10, time=time'''\n",
    "'''first twitch: 5, 10, 50, 2, 10'''\n",
    "'''positive workloop params: 25, # freq in Hz, 0.1, # phase offset, 10, # stimulus duration in ms\n",
    "    2, # time it takes for ca to go from 10 to 90% of influx level, 10, # half life of Ca decay, time_trace'''\n",
    "actin_permissiveness_trace = multifil.aws.metas.actin_permissiveness_workloop(\n",
    "    25, # freq in Hz \n",
    "    0.1, # phase offset \n",
    "    20, # stimulus duration in ms\n",
    "    2, # time it takes for ca to go from 10 to 90% of influx level\n",
    "    10, # half life of Ca decay \n",
    "    time_trace\n",
    "                                                                             )"
   ]
  },
  {
   "cell_type": "markdown",
   "metadata": {},
   "source": [
    "It is hard to understand those without plotting them together:"
   ]
  },
  {
   "cell_type": "code",
   "execution_count": null,
   "metadata": {},
   "outputs": [],
   "source": [
    "fig, axes = plt.subplots(2,1,sharex=True)\n",
    "axes[0].plot(time_trace, length_trace)\n",
    "axes[0].set(ylabel='hs length (nm)')\n",
    "axes[1].plot(time_trace, actin_permissiveness_trace)\n",
    "axes[1].set(ylabel='actin permissiveness',\n",
    "           xlabel='time (ms)')\n",
    "plt.tight_layout()"
   ]
  },
  {
   "cell_type": "markdown",
   "metadata": {},
   "source": [
    "Ok, now that we have our wl parameter traces, we can encode them into the meta:"
   ]
  },
  {
   "cell_type": "code",
   "execution_count": null,
   "metadata": {},
   "outputs": [],
   "source": [
    "wl_meta, run_name = multifil.aws.metas.emit('../outputClientMultifil/AAAAAAH/', # local dir to save run output to\n",
    "                                  None, #s3 bucket to upload results to\n",
    "                                  time_trace, \n",
    "                                  0.5, # poisson ratio, set to const vol here\n",
    "                                 None, # intial ls, using default by passing none\n",
    "                                 length_trace, \n",
    "                                 actin_permissiveness_trace, \n",
    "                                 \"an example run\", # comment describing run\n",
    "                                 True, # whether to write out resulting file \n",
    "                                  #or just pass back to variable\n",
    "                                 )\n",
    "!dir"
   ]
  },
  {
   "cell_type": "markdown",
   "metadata": {},
   "source": [
    " We created a meta file locally at  `f07114fe-91c8-11e8-a3d9-2a0001d4a520.meta.json`.\n",
    " Actually called `bbf390e6-7696-11e9-a72f-c3083097ab67.meta.json`.\n",
    " Let's run it locally too:"
   ]
  },
  {
   "cell_type": "code",
   "execution_count": null,
   "metadata": {},
   "outputs": [],
   "source": [
    "run = multifil.aws.run.manage(run_name, False)"
   ]
  },
  {
   "cell_type": "code",
   "execution_count": null,
   "metadata": {
    "scrolled": false
   },
   "outputs": [],
   "source": [
    "run.run_and_save()"
   ]
  },
  {
   "cell_type": "markdown",
   "metadata": {},
   "source": [
    "We can load in the saved data from the run:"
   ]
  },
  {
   "cell_type": "code",
   "execution_count": null,
   "metadata": {},
   "outputs": [],
   "source": [
    "print(run_name)\n",
    "data_name = run_name.split('.meta')[0] + '.data.json'\n",
    "\n",
    "with open(data_name, 'r') as file:\n",
    "    data = json.load(file)"
   ]
  },
  {
   "cell_type": "markdown",
   "metadata": {},
   "source": [
    "And plot using helper functions in `work_and_workloops`"
   ]
  },
  {
   "cell_type": "code",
   "execution_count": null,
   "metadata": {},
   "outputs": [],
   "source": [
    "import originalWorkAndWorkloops as work_and_workloops\n",
    "import work_and_workloops\n",
    "\n",
    "fig, ax = plt.subplots(1,1)\n",
    "work_and_workloops.workloop_plot(ax, data['z_line'], data['axial_force'])"
   ]
  },
  {
   "cell_type": "markdown",
   "metadata": {},
   "source": [
    "That was mostly positive work, nice! Those fill-in line mismatches get a whole lot better as the time resolution of the trial gets better.\n",
    "\n",
    "This concluded the minimal example of how to run a workloop trial. "
   ]
  }
 ],
 "metadata": {
  "kernelspec": {
   "display_name": "Python 3",
   "language": "python",
   "name": "python3"
  },
  "language_info": {
   "codemirror_mode": {
    "name": "ipython",
    "version": 3
   },
   "file_extension": ".py",
   "mimetype": "text/x-python",
   "name": "python",
   "nbconvert_exporter": "python",
   "pygments_lexer": "ipython3",
   "version": "3.7.3"
  }
 },
 "nbformat": 4,
 "nbformat_minor": 2
}
